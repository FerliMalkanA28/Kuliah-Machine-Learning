{
  "nbformat": 4,
  "nbformat_minor": 0,
  "metadata": {
    "colab": {
      "provenance": []
    },
    "kernelspec": {
      "name": "python3",
      "display_name": "Python 3"
    },
    "language_info": {
      "name": "python"
    }
  },
  "cells": [
    {
      "cell_type": "markdown",
      "source": [
        "Nama : Ferli Malkan Amien <br>\n",
        "NPM  : 2117051050 <br>\n",
        "Kelas: C <br>\n",
        "Link : https://colab.research.google.com/drive/1atLDjYJB_zQKcyuUgWZoG-ecm0ywnbZB?usp=sharing"
      ],
      "metadata": {
        "id": "eJGkGwHRWyRx"
      }
    },
    {
      "cell_type": "markdown",
      "source": [
        "# Decision Tree"
      ],
      "metadata": {
        "id": "HvO1KrnOW9B2"
      }
    },
    {
      "cell_type": "markdown",
      "source": [
        "## Library"
      ],
      "metadata": {
        "id": "9pDAEEGpW-uj"
      }
    },
    {
      "cell_type": "code",
      "execution_count": 1,
      "metadata": {
        "id": "AJk95EHFWufq"
      },
      "outputs": [],
      "source": [
        "import pandas as pd\n",
        "import numpy as np\n",
        "import warnings\n",
        "\n",
        "from sklearn.tree import DecisionTreeClassifier\n",
        "from sklearn.metrics import accuracy_score\n",
        "\n",
        "warnings.filterwarnings(\"ignore\")"
      ]
    },
    {
      "cell_type": "markdown",
      "source": [
        "## Load Data"
      ],
      "metadata": {
        "id": "fNEM2V30XO3k"
      }
    },
    {
      "cell_type": "code",
      "source": [
        "df = pd.read_csv('https://raw.githubusercontent.com/rahmantaufik27/dataset/main/study/daily_weather_prediction.csv')\n",
        "df"
      ],
      "metadata": {
        "colab": {
          "base_uri": "https://localhost:8080/",
          "height": 487
        },
        "id": "pbCGMKCsXRWE",
        "outputId": "383e51f0-5b79-468e-ab78-4c0d3d6b9857"
      },
      "execution_count": 2,
      "outputs": [
        {
          "output_type": "execute_result",
          "data": {
            "text/plain": [
              "      number  air_pressure_9am  air_temp_9am  avg_wind_direction_9am  \\\n",
              "0          0        918.060000     74.822000              271.100000   \n",
              "1          1        917.347688     71.403843              101.935179   \n",
              "2          2        923.040000     60.638000               51.000000   \n",
              "3          3        920.502751     70.138895              198.832133   \n",
              "4          4        921.160000     44.294000              277.800000   \n",
              "...      ...               ...           ...                     ...   \n",
              "1090    1090        918.900000     63.104000              192.900000   \n",
              "1091    1091        918.710000     49.568000              241.600000   \n",
              "1092    1092        916.600000     71.096000              189.300000   \n",
              "1093    1093        912.600000     58.406000              172.700000   \n",
              "1094    1094        921.530000     77.702000               97.100000   \n",
              "\n",
              "      avg_wind_speed_9am  max_wind_direction_9am  max_wind_speed_9am  \\\n",
              "0               2.080354              295.400000            2.863283   \n",
              "1               2.443009              140.471548            3.533324   \n",
              "2              17.067852               63.700000           22.100967   \n",
              "3               4.337363              211.203341            5.190045   \n",
              "4               1.856660              136.500000            2.863283   \n",
              "...                  ...                     ...                 ...   \n",
              "1090            3.869906              207.300000            5.212070   \n",
              "1091            1.811921              227.400000            2.371156   \n",
              "1092            3.064608              200.800000            3.892276   \n",
              "1093            3.825167              189.100000            4.764682   \n",
              "1094            3.265932              125.900000            4.451511   \n",
              "\n",
              "      rain_accumulation_9am  rain_duration_9am  relative_humidity_9am  \\\n",
              "0                       0.0                0.0              42.420000   \n",
              "1                       0.0                0.0              24.328697   \n",
              "2                       0.0               20.0               8.900000   \n",
              "3                       0.0                0.0              12.189102   \n",
              "4                       8.9            14730.0              92.410000   \n",
              "...                     ...                ...                    ...   \n",
              "1090                    0.0                0.0              26.020000   \n",
              "1091                    0.0                0.0              90.350000   \n",
              "1092                    0.0                0.0              45.590000   \n",
              "1093                    0.0                0.0              64.840000   \n",
              "1094                    0.0                0.0              14.560000   \n",
              "\n",
              "      relative_humidity_3pm  \n",
              "0                 36.160000  \n",
              "1                 19.426597  \n",
              "2                 14.460000  \n",
              "3                 12.742547  \n",
              "4                 76.740000  \n",
              "...                     ...  \n",
              "1090              38.180000  \n",
              "1091              73.340000  \n",
              "1092              52.310000  \n",
              "1093              58.280000  \n",
              "1094              15.100000  \n",
              "\n",
              "[1095 rows x 11 columns]"
            ],
            "text/html": [
              "\n",
              "  <div id=\"df-d30b0424-17f3-48f3-a6ed-f7b9dcd0ecd9\">\n",
              "    <div class=\"colab-df-container\">\n",
              "      <div>\n",
              "<style scoped>\n",
              "    .dataframe tbody tr th:only-of-type {\n",
              "        vertical-align: middle;\n",
              "    }\n",
              "\n",
              "    .dataframe tbody tr th {\n",
              "        vertical-align: top;\n",
              "    }\n",
              "\n",
              "    .dataframe thead th {\n",
              "        text-align: right;\n",
              "    }\n",
              "</style>\n",
              "<table border=\"1\" class=\"dataframe\">\n",
              "  <thead>\n",
              "    <tr style=\"text-align: right;\">\n",
              "      <th></th>\n",
              "      <th>number</th>\n",
              "      <th>air_pressure_9am</th>\n",
              "      <th>air_temp_9am</th>\n",
              "      <th>avg_wind_direction_9am</th>\n",
              "      <th>avg_wind_speed_9am</th>\n",
              "      <th>max_wind_direction_9am</th>\n",
              "      <th>max_wind_speed_9am</th>\n",
              "      <th>rain_accumulation_9am</th>\n",
              "      <th>rain_duration_9am</th>\n",
              "      <th>relative_humidity_9am</th>\n",
              "      <th>relative_humidity_3pm</th>\n",
              "    </tr>\n",
              "  </thead>\n",
              "  <tbody>\n",
              "    <tr>\n",
              "      <th>0</th>\n",
              "      <td>0</td>\n",
              "      <td>918.060000</td>\n",
              "      <td>74.822000</td>\n",
              "      <td>271.100000</td>\n",
              "      <td>2.080354</td>\n",
              "      <td>295.400000</td>\n",
              "      <td>2.863283</td>\n",
              "      <td>0.0</td>\n",
              "      <td>0.0</td>\n",
              "      <td>42.420000</td>\n",
              "      <td>36.160000</td>\n",
              "    </tr>\n",
              "    <tr>\n",
              "      <th>1</th>\n",
              "      <td>1</td>\n",
              "      <td>917.347688</td>\n",
              "      <td>71.403843</td>\n",
              "      <td>101.935179</td>\n",
              "      <td>2.443009</td>\n",
              "      <td>140.471548</td>\n",
              "      <td>3.533324</td>\n",
              "      <td>0.0</td>\n",
              "      <td>0.0</td>\n",
              "      <td>24.328697</td>\n",
              "      <td>19.426597</td>\n",
              "    </tr>\n",
              "    <tr>\n",
              "      <th>2</th>\n",
              "      <td>2</td>\n",
              "      <td>923.040000</td>\n",
              "      <td>60.638000</td>\n",
              "      <td>51.000000</td>\n",
              "      <td>17.067852</td>\n",
              "      <td>63.700000</td>\n",
              "      <td>22.100967</td>\n",
              "      <td>0.0</td>\n",
              "      <td>20.0</td>\n",
              "      <td>8.900000</td>\n",
              "      <td>14.460000</td>\n",
              "    </tr>\n",
              "    <tr>\n",
              "      <th>3</th>\n",
              "      <td>3</td>\n",
              "      <td>920.502751</td>\n",
              "      <td>70.138895</td>\n",
              "      <td>198.832133</td>\n",
              "      <td>4.337363</td>\n",
              "      <td>211.203341</td>\n",
              "      <td>5.190045</td>\n",
              "      <td>0.0</td>\n",
              "      <td>0.0</td>\n",
              "      <td>12.189102</td>\n",
              "      <td>12.742547</td>\n",
              "    </tr>\n",
              "    <tr>\n",
              "      <th>4</th>\n",
              "      <td>4</td>\n",
              "      <td>921.160000</td>\n",
              "      <td>44.294000</td>\n",
              "      <td>277.800000</td>\n",
              "      <td>1.856660</td>\n",
              "      <td>136.500000</td>\n",
              "      <td>2.863283</td>\n",
              "      <td>8.9</td>\n",
              "      <td>14730.0</td>\n",
              "      <td>92.410000</td>\n",
              "      <td>76.740000</td>\n",
              "    </tr>\n",
              "    <tr>\n",
              "      <th>...</th>\n",
              "      <td>...</td>\n",
              "      <td>...</td>\n",
              "      <td>...</td>\n",
              "      <td>...</td>\n",
              "      <td>...</td>\n",
              "      <td>...</td>\n",
              "      <td>...</td>\n",
              "      <td>...</td>\n",
              "      <td>...</td>\n",
              "      <td>...</td>\n",
              "      <td>...</td>\n",
              "    </tr>\n",
              "    <tr>\n",
              "      <th>1090</th>\n",
              "      <td>1090</td>\n",
              "      <td>918.900000</td>\n",
              "      <td>63.104000</td>\n",
              "      <td>192.900000</td>\n",
              "      <td>3.869906</td>\n",
              "      <td>207.300000</td>\n",
              "      <td>5.212070</td>\n",
              "      <td>0.0</td>\n",
              "      <td>0.0</td>\n",
              "      <td>26.020000</td>\n",
              "      <td>38.180000</td>\n",
              "    </tr>\n",
              "    <tr>\n",
              "      <th>1091</th>\n",
              "      <td>1091</td>\n",
              "      <td>918.710000</td>\n",
              "      <td>49.568000</td>\n",
              "      <td>241.600000</td>\n",
              "      <td>1.811921</td>\n",
              "      <td>227.400000</td>\n",
              "      <td>2.371156</td>\n",
              "      <td>0.0</td>\n",
              "      <td>0.0</td>\n",
              "      <td>90.350000</td>\n",
              "      <td>73.340000</td>\n",
              "    </tr>\n",
              "    <tr>\n",
              "      <th>1092</th>\n",
              "      <td>1092</td>\n",
              "      <td>916.600000</td>\n",
              "      <td>71.096000</td>\n",
              "      <td>189.300000</td>\n",
              "      <td>3.064608</td>\n",
              "      <td>200.800000</td>\n",
              "      <td>3.892276</td>\n",
              "      <td>0.0</td>\n",
              "      <td>0.0</td>\n",
              "      <td>45.590000</td>\n",
              "      <td>52.310000</td>\n",
              "    </tr>\n",
              "    <tr>\n",
              "      <th>1093</th>\n",
              "      <td>1093</td>\n",
              "      <td>912.600000</td>\n",
              "      <td>58.406000</td>\n",
              "      <td>172.700000</td>\n",
              "      <td>3.825167</td>\n",
              "      <td>189.100000</td>\n",
              "      <td>4.764682</td>\n",
              "      <td>0.0</td>\n",
              "      <td>0.0</td>\n",
              "      <td>64.840000</td>\n",
              "      <td>58.280000</td>\n",
              "    </tr>\n",
              "    <tr>\n",
              "      <th>1094</th>\n",
              "      <td>1094</td>\n",
              "      <td>921.530000</td>\n",
              "      <td>77.702000</td>\n",
              "      <td>97.100000</td>\n",
              "      <td>3.265932</td>\n",
              "      <td>125.900000</td>\n",
              "      <td>4.451511</td>\n",
              "      <td>0.0</td>\n",
              "      <td>0.0</td>\n",
              "      <td>14.560000</td>\n",
              "      <td>15.100000</td>\n",
              "    </tr>\n",
              "  </tbody>\n",
              "</table>\n",
              "<p>1095 rows × 11 columns</p>\n",
              "</div>\n",
              "      <button class=\"colab-df-convert\" onclick=\"convertToInteractive('df-d30b0424-17f3-48f3-a6ed-f7b9dcd0ecd9')\"\n",
              "              title=\"Convert this dataframe to an interactive table.\"\n",
              "              style=\"display:none;\">\n",
              "        \n",
              "  <svg xmlns=\"http://www.w3.org/2000/svg\" height=\"24px\"viewBox=\"0 0 24 24\"\n",
              "       width=\"24px\">\n",
              "    <path d=\"M0 0h24v24H0V0z\" fill=\"none\"/>\n",
              "    <path d=\"M18.56 5.44l.94 2.06.94-2.06 2.06-.94-2.06-.94-.94-2.06-.94 2.06-2.06.94zm-11 1L8.5 8.5l.94-2.06 2.06-.94-2.06-.94L8.5 2.5l-.94 2.06-2.06.94zm10 10l.94 2.06.94-2.06 2.06-.94-2.06-.94-.94-2.06-.94 2.06-2.06.94z\"/><path d=\"M17.41 7.96l-1.37-1.37c-.4-.4-.92-.59-1.43-.59-.52 0-1.04.2-1.43.59L10.3 9.45l-7.72 7.72c-.78.78-.78 2.05 0 2.83L4 21.41c.39.39.9.59 1.41.59.51 0 1.02-.2 1.41-.59l7.78-7.78 2.81-2.81c.8-.78.8-2.07 0-2.86zM5.41 20L4 18.59l7.72-7.72 1.47 1.35L5.41 20z\"/>\n",
              "  </svg>\n",
              "      </button>\n",
              "      \n",
              "  <style>\n",
              "    .colab-df-container {\n",
              "      display:flex;\n",
              "      flex-wrap:wrap;\n",
              "      gap: 12px;\n",
              "    }\n",
              "\n",
              "    .colab-df-convert {\n",
              "      background-color: #E8F0FE;\n",
              "      border: none;\n",
              "      border-radius: 50%;\n",
              "      cursor: pointer;\n",
              "      display: none;\n",
              "      fill: #1967D2;\n",
              "      height: 32px;\n",
              "      padding: 0 0 0 0;\n",
              "      width: 32px;\n",
              "    }\n",
              "\n",
              "    .colab-df-convert:hover {\n",
              "      background-color: #E2EBFA;\n",
              "      box-shadow: 0px 1px 2px rgba(60, 64, 67, 0.3), 0px 1px 3px 1px rgba(60, 64, 67, 0.15);\n",
              "      fill: #174EA6;\n",
              "    }\n",
              "\n",
              "    [theme=dark] .colab-df-convert {\n",
              "      background-color: #3B4455;\n",
              "      fill: #D2E3FC;\n",
              "    }\n",
              "\n",
              "    [theme=dark] .colab-df-convert:hover {\n",
              "      background-color: #434B5C;\n",
              "      box-shadow: 0px 1px 3px 1px rgba(0, 0, 0, 0.15);\n",
              "      filter: drop-shadow(0px 1px 2px rgba(0, 0, 0, 0.3));\n",
              "      fill: #FFFFFF;\n",
              "    }\n",
              "  </style>\n",
              "\n",
              "      <script>\n",
              "        const buttonEl =\n",
              "          document.querySelector('#df-d30b0424-17f3-48f3-a6ed-f7b9dcd0ecd9 button.colab-df-convert');\n",
              "        buttonEl.style.display =\n",
              "          google.colab.kernel.accessAllowed ? 'block' : 'none';\n",
              "\n",
              "        async function convertToInteractive(key) {\n",
              "          const element = document.querySelector('#df-d30b0424-17f3-48f3-a6ed-f7b9dcd0ecd9');\n",
              "          const dataTable =\n",
              "            await google.colab.kernel.invokeFunction('convertToInteractive',\n",
              "                                                     [key], {});\n",
              "          if (!dataTable) return;\n",
              "\n",
              "          const docLinkHtml = 'Like what you see? Visit the ' +\n",
              "            '<a target=\"_blank\" href=https://colab.research.google.com/notebooks/data_table.ipynb>data table notebook</a>'\n",
              "            + ' to learn more about interactive tables.';\n",
              "          element.innerHTML = '';\n",
              "          dataTable['output_type'] = 'display_data';\n",
              "          await google.colab.output.renderOutput(dataTable, element);\n",
              "          const docLink = document.createElement('div');\n",
              "          docLink.innerHTML = docLinkHtml;\n",
              "          element.appendChild(docLink);\n",
              "        }\n",
              "      </script>\n",
              "    </div>\n",
              "  </div>\n",
              "  "
            ]
          },
          "metadata": {},
          "execution_count": 2
        }
      ]
    },
    {
      "cell_type": "markdown",
      "source": [
        "## EDA\n",
        "Exploratory Data Analysis"
      ],
      "metadata": {
        "id": "QB5fklBGXZZA"
      }
    },
    {
      "cell_type": "code",
      "source": [
        "df.info()"
      ],
      "metadata": {
        "colab": {
          "base_uri": "https://localhost:8080/"
        },
        "id": "R8sjLSRaXdW8",
        "outputId": "ecb504e2-0118-4fec-f4c5-c1337f3fff81"
      },
      "execution_count": 3,
      "outputs": [
        {
          "output_type": "stream",
          "name": "stdout",
          "text": [
            "<class 'pandas.core.frame.DataFrame'>\n",
            "RangeIndex: 1095 entries, 0 to 1094\n",
            "Data columns (total 11 columns):\n",
            " #   Column                  Non-Null Count  Dtype  \n",
            "---  ------                  --------------  -----  \n",
            " 0   number                  1095 non-null   int64  \n",
            " 1   air_pressure_9am        1092 non-null   float64\n",
            " 2   air_temp_9am            1090 non-null   float64\n",
            " 3   avg_wind_direction_9am  1091 non-null   float64\n",
            " 4   avg_wind_speed_9am      1092 non-null   float64\n",
            " 5   max_wind_direction_9am  1092 non-null   float64\n",
            " 6   max_wind_speed_9am      1091 non-null   float64\n",
            " 7   rain_accumulation_9am   1089 non-null   float64\n",
            " 8   rain_duration_9am       1092 non-null   float64\n",
            " 9   relative_humidity_9am   1095 non-null   float64\n",
            " 10  relative_humidity_3pm   1095 non-null   float64\n",
            "dtypes: float64(10), int64(1)\n",
            "memory usage: 94.2 KB\n"
          ]
        }
      ]
    },
    {
      "cell_type": "code",
      "source": [
        "df.isnull().sum()"
      ],
      "metadata": {
        "colab": {
          "base_uri": "https://localhost:8080/"
        },
        "id": "YobIepGSXffM",
        "outputId": "67a3f5a3-e2af-4553-b5f3-5ab7eb2f08a2"
      },
      "execution_count": 4,
      "outputs": [
        {
          "output_type": "execute_result",
          "data": {
            "text/plain": [
              "number                    0\n",
              "air_pressure_9am          3\n",
              "air_temp_9am              5\n",
              "avg_wind_direction_9am    4\n",
              "avg_wind_speed_9am        3\n",
              "max_wind_direction_9am    3\n",
              "max_wind_speed_9am        4\n",
              "rain_accumulation_9am     6\n",
              "rain_duration_9am         3\n",
              "relative_humidity_9am     0\n",
              "relative_humidity_3pm     0\n",
              "dtype: int64"
            ]
          },
          "metadata": {},
          "execution_count": 4
        }
      ]
    },
    {
      "cell_type": "code",
      "source": [
        "df.describe()"
      ],
      "metadata": {
        "colab": {
          "base_uri": "https://localhost:8080/",
          "height": 364
        },
        "id": "dD7baDCfXhch",
        "outputId": "16d0c8ce-70f5-4a95-ff03-234672fa5601"
      },
      "execution_count": 5,
      "outputs": [
        {
          "output_type": "execute_result",
          "data": {
            "text/plain": [
              "            number  air_pressure_9am  air_temp_9am  avg_wind_direction_9am  \\\n",
              "count  1095.000000       1092.000000   1090.000000             1091.000000   \n",
              "mean    547.000000        918.882551     64.933001              142.235511   \n",
              "std     316.243577          3.184161     11.175514               69.137859   \n",
              "min       0.000000        907.990000     36.752000               15.500000   \n",
              "25%     273.500000        916.550000     57.281000               65.972506   \n",
              "50%     547.000000        918.921045     65.715479              166.000000   \n",
              "75%     820.500000        921.160073     73.450974              191.000000   \n",
              "max    1094.000000        929.320000     98.906000              343.400000   \n",
              "\n",
              "       avg_wind_speed_9am  max_wind_direction_9am  max_wind_speed_9am  \\\n",
              "count         1092.000000             1092.000000         1091.000000   \n",
              "mean             5.508284              148.953518            7.019514   \n",
              "std              4.552813               67.238013            5.598209   \n",
              "min              0.693451               28.900000            1.185578   \n",
              "25%              2.248768               76.553003            3.067477   \n",
              "50%              3.871333              177.300000            4.943637   \n",
              "75%              7.337163              201.233153            8.947760   \n",
              "max             23.554978              312.200000           29.840780   \n",
              "\n",
              "       rain_accumulation_9am  rain_duration_9am  relative_humidity_9am  \\\n",
              "count            1089.000000        1092.000000            1095.000000   \n",
              "mean                0.203079         294.108052              34.241402   \n",
              "std                 1.593952        1598.078779              25.472067   \n",
              "min                 0.000000           0.000000               6.090000   \n",
              "25%                 0.000000           0.000000              15.092243   \n",
              "50%                 0.000000           0.000000              23.179259   \n",
              "75%                 0.000000           0.000000              45.400000   \n",
              "max                24.020000       17704.000000              92.620000   \n",
              "\n",
              "       relative_humidity_3pm  \n",
              "count            1095.000000  \n",
              "mean               35.344727  \n",
              "std                22.524079  \n",
              "min                 5.300000  \n",
              "25%                17.395000  \n",
              "50%                24.380000  \n",
              "75%                52.060000  \n",
              "max                92.250000  "
            ],
            "text/html": [
              "\n",
              "  <div id=\"df-063d1001-b288-4059-9361-dd3130dc25e6\">\n",
              "    <div class=\"colab-df-container\">\n",
              "      <div>\n",
              "<style scoped>\n",
              "    .dataframe tbody tr th:only-of-type {\n",
              "        vertical-align: middle;\n",
              "    }\n",
              "\n",
              "    .dataframe tbody tr th {\n",
              "        vertical-align: top;\n",
              "    }\n",
              "\n",
              "    .dataframe thead th {\n",
              "        text-align: right;\n",
              "    }\n",
              "</style>\n",
              "<table border=\"1\" class=\"dataframe\">\n",
              "  <thead>\n",
              "    <tr style=\"text-align: right;\">\n",
              "      <th></th>\n",
              "      <th>number</th>\n",
              "      <th>air_pressure_9am</th>\n",
              "      <th>air_temp_9am</th>\n",
              "      <th>avg_wind_direction_9am</th>\n",
              "      <th>avg_wind_speed_9am</th>\n",
              "      <th>max_wind_direction_9am</th>\n",
              "      <th>max_wind_speed_9am</th>\n",
              "      <th>rain_accumulation_9am</th>\n",
              "      <th>rain_duration_9am</th>\n",
              "      <th>relative_humidity_9am</th>\n",
              "      <th>relative_humidity_3pm</th>\n",
              "    </tr>\n",
              "  </thead>\n",
              "  <tbody>\n",
              "    <tr>\n",
              "      <th>count</th>\n",
              "      <td>1095.000000</td>\n",
              "      <td>1092.000000</td>\n",
              "      <td>1090.000000</td>\n",
              "      <td>1091.000000</td>\n",
              "      <td>1092.000000</td>\n",
              "      <td>1092.000000</td>\n",
              "      <td>1091.000000</td>\n",
              "      <td>1089.000000</td>\n",
              "      <td>1092.000000</td>\n",
              "      <td>1095.000000</td>\n",
              "      <td>1095.000000</td>\n",
              "    </tr>\n",
              "    <tr>\n",
              "      <th>mean</th>\n",
              "      <td>547.000000</td>\n",
              "      <td>918.882551</td>\n",
              "      <td>64.933001</td>\n",
              "      <td>142.235511</td>\n",
              "      <td>5.508284</td>\n",
              "      <td>148.953518</td>\n",
              "      <td>7.019514</td>\n",
              "      <td>0.203079</td>\n",
              "      <td>294.108052</td>\n",
              "      <td>34.241402</td>\n",
              "      <td>35.344727</td>\n",
              "    </tr>\n",
              "    <tr>\n",
              "      <th>std</th>\n",
              "      <td>316.243577</td>\n",
              "      <td>3.184161</td>\n",
              "      <td>11.175514</td>\n",
              "      <td>69.137859</td>\n",
              "      <td>4.552813</td>\n",
              "      <td>67.238013</td>\n",
              "      <td>5.598209</td>\n",
              "      <td>1.593952</td>\n",
              "      <td>1598.078779</td>\n",
              "      <td>25.472067</td>\n",
              "      <td>22.524079</td>\n",
              "    </tr>\n",
              "    <tr>\n",
              "      <th>min</th>\n",
              "      <td>0.000000</td>\n",
              "      <td>907.990000</td>\n",
              "      <td>36.752000</td>\n",
              "      <td>15.500000</td>\n",
              "      <td>0.693451</td>\n",
              "      <td>28.900000</td>\n",
              "      <td>1.185578</td>\n",
              "      <td>0.000000</td>\n",
              "      <td>0.000000</td>\n",
              "      <td>6.090000</td>\n",
              "      <td>5.300000</td>\n",
              "    </tr>\n",
              "    <tr>\n",
              "      <th>25%</th>\n",
              "      <td>273.500000</td>\n",
              "      <td>916.550000</td>\n",
              "      <td>57.281000</td>\n",
              "      <td>65.972506</td>\n",
              "      <td>2.248768</td>\n",
              "      <td>76.553003</td>\n",
              "      <td>3.067477</td>\n",
              "      <td>0.000000</td>\n",
              "      <td>0.000000</td>\n",
              "      <td>15.092243</td>\n",
              "      <td>17.395000</td>\n",
              "    </tr>\n",
              "    <tr>\n",
              "      <th>50%</th>\n",
              "      <td>547.000000</td>\n",
              "      <td>918.921045</td>\n",
              "      <td>65.715479</td>\n",
              "      <td>166.000000</td>\n",
              "      <td>3.871333</td>\n",
              "      <td>177.300000</td>\n",
              "      <td>4.943637</td>\n",
              "      <td>0.000000</td>\n",
              "      <td>0.000000</td>\n",
              "      <td>23.179259</td>\n",
              "      <td>24.380000</td>\n",
              "    </tr>\n",
              "    <tr>\n",
              "      <th>75%</th>\n",
              "      <td>820.500000</td>\n",
              "      <td>921.160073</td>\n",
              "      <td>73.450974</td>\n",
              "      <td>191.000000</td>\n",
              "      <td>7.337163</td>\n",
              "      <td>201.233153</td>\n",
              "      <td>8.947760</td>\n",
              "      <td>0.000000</td>\n",
              "      <td>0.000000</td>\n",
              "      <td>45.400000</td>\n",
              "      <td>52.060000</td>\n",
              "    </tr>\n",
              "    <tr>\n",
              "      <th>max</th>\n",
              "      <td>1094.000000</td>\n",
              "      <td>929.320000</td>\n",
              "      <td>98.906000</td>\n",
              "      <td>343.400000</td>\n",
              "      <td>23.554978</td>\n",
              "      <td>312.200000</td>\n",
              "      <td>29.840780</td>\n",
              "      <td>24.020000</td>\n",
              "      <td>17704.000000</td>\n",
              "      <td>92.620000</td>\n",
              "      <td>92.250000</td>\n",
              "    </tr>\n",
              "  </tbody>\n",
              "</table>\n",
              "</div>\n",
              "      <button class=\"colab-df-convert\" onclick=\"convertToInteractive('df-063d1001-b288-4059-9361-dd3130dc25e6')\"\n",
              "              title=\"Convert this dataframe to an interactive table.\"\n",
              "              style=\"display:none;\">\n",
              "        \n",
              "  <svg xmlns=\"http://www.w3.org/2000/svg\" height=\"24px\"viewBox=\"0 0 24 24\"\n",
              "       width=\"24px\">\n",
              "    <path d=\"M0 0h24v24H0V0z\" fill=\"none\"/>\n",
              "    <path d=\"M18.56 5.44l.94 2.06.94-2.06 2.06-.94-2.06-.94-.94-2.06-.94 2.06-2.06.94zm-11 1L8.5 8.5l.94-2.06 2.06-.94-2.06-.94L8.5 2.5l-.94 2.06-2.06.94zm10 10l.94 2.06.94-2.06 2.06-.94-2.06-.94-.94-2.06-.94 2.06-2.06.94z\"/><path d=\"M17.41 7.96l-1.37-1.37c-.4-.4-.92-.59-1.43-.59-.52 0-1.04.2-1.43.59L10.3 9.45l-7.72 7.72c-.78.78-.78 2.05 0 2.83L4 21.41c.39.39.9.59 1.41.59.51 0 1.02-.2 1.41-.59l7.78-7.78 2.81-2.81c.8-.78.8-2.07 0-2.86zM5.41 20L4 18.59l7.72-7.72 1.47 1.35L5.41 20z\"/>\n",
              "  </svg>\n",
              "      </button>\n",
              "      \n",
              "  <style>\n",
              "    .colab-df-container {\n",
              "      display:flex;\n",
              "      flex-wrap:wrap;\n",
              "      gap: 12px;\n",
              "    }\n",
              "\n",
              "    .colab-df-convert {\n",
              "      background-color: #E8F0FE;\n",
              "      border: none;\n",
              "      border-radius: 50%;\n",
              "      cursor: pointer;\n",
              "      display: none;\n",
              "      fill: #1967D2;\n",
              "      height: 32px;\n",
              "      padding: 0 0 0 0;\n",
              "      width: 32px;\n",
              "    }\n",
              "\n",
              "    .colab-df-convert:hover {\n",
              "      background-color: #E2EBFA;\n",
              "      box-shadow: 0px 1px 2px rgba(60, 64, 67, 0.3), 0px 1px 3px 1px rgba(60, 64, 67, 0.15);\n",
              "      fill: #174EA6;\n",
              "    }\n",
              "\n",
              "    [theme=dark] .colab-df-convert {\n",
              "      background-color: #3B4455;\n",
              "      fill: #D2E3FC;\n",
              "    }\n",
              "\n",
              "    [theme=dark] .colab-df-convert:hover {\n",
              "      background-color: #434B5C;\n",
              "      box-shadow: 0px 1px 3px 1px rgba(0, 0, 0, 0.15);\n",
              "      filter: drop-shadow(0px 1px 2px rgba(0, 0, 0, 0.3));\n",
              "      fill: #FFFFFF;\n",
              "    }\n",
              "  </style>\n",
              "\n",
              "      <script>\n",
              "        const buttonEl =\n",
              "          document.querySelector('#df-063d1001-b288-4059-9361-dd3130dc25e6 button.colab-df-convert');\n",
              "        buttonEl.style.display =\n",
              "          google.colab.kernel.accessAllowed ? 'block' : 'none';\n",
              "\n",
              "        async function convertToInteractive(key) {\n",
              "          const element = document.querySelector('#df-063d1001-b288-4059-9361-dd3130dc25e6');\n",
              "          const dataTable =\n",
              "            await google.colab.kernel.invokeFunction('convertToInteractive',\n",
              "                                                     [key], {});\n",
              "          if (!dataTable) return;\n",
              "\n",
              "          const docLinkHtml = 'Like what you see? Visit the ' +\n",
              "            '<a target=\"_blank\" href=https://colab.research.google.com/notebooks/data_table.ipynb>data table notebook</a>'\n",
              "            + ' to learn more about interactive tables.';\n",
              "          element.innerHTML = '';\n",
              "          dataTable['output_type'] = 'display_data';\n",
              "          await google.colab.output.renderOutput(dataTable, element);\n",
              "          const docLink = document.createElement('div');\n",
              "          docLink.innerHTML = docLinkHtml;\n",
              "          element.appendChild(docLink);\n",
              "        }\n",
              "      </script>\n",
              "    </div>\n",
              "  </div>\n",
              "  "
            ]
          },
          "metadata": {},
          "execution_count": 5
        }
      ]
    },
    {
      "cell_type": "markdown",
      "source": [
        "## Preprocessing"
      ],
      "metadata": {
        "id": "fpFCxAVeXkDC"
      }
    },
    {
      "cell_type": "code",
      "source": [
        "# hapus null data\n",
        "df = df.dropna()"
      ],
      "metadata": {
        "id": "V375dJaiXmCJ"
      },
      "execution_count": 6,
      "outputs": []
    },
    {
      "cell_type": "code",
      "source": [
        "# konversi fitur/atribut high humidity label ke atribut label menjadi nilai (1/0)\n",
        "df['high_humidity_label'] = (df['relative_humidity_3pm'] > 24.99) * 1"
      ],
      "metadata": {
        "id": "mrdy_7b2Xvll"
      },
      "execution_count": 7,
      "outputs": []
    },
    {
      "cell_type": "code",
      "source": [
        "# tentukan fitur\n",
        "# hapus fitur relative_humidity, high_humidity_label dan number\n",
        "features = list(df.columns)\n",
        "features.remove('number')\n",
        "features.remove('relative_humidity_9am')\n",
        "features.remove('relative_humidity_3pm')\n",
        "features.remove('high_humidity_label')\n",
        "features"
      ],
      "metadata": {
        "colab": {
          "base_uri": "https://localhost:8080/"
        },
        "id": "CDO_3mW4X9mM",
        "outputId": "f4d2ffbd-f126-4610-d92c-b3b016bbfdd5"
      },
      "execution_count": 8,
      "outputs": [
        {
          "output_type": "execute_result",
          "data": {
            "text/plain": [
              "['air_pressure_9am',\n",
              " 'air_temp_9am',\n",
              " 'avg_wind_direction_9am',\n",
              " 'avg_wind_speed_9am',\n",
              " 'max_wind_direction_9am',\n",
              " 'max_wind_speed_9am',\n",
              " 'rain_accumulation_9am',\n",
              " 'rain_duration_9am']"
            ]
          },
          "metadata": {},
          "execution_count": 8
        }
      ]
    },
    {
      "cell_type": "code",
      "source": [
        "# pisahkan data fitur dengan data target\n",
        "X = df[features].copy()\n",
        "y = df['high_humidity_label'].copy()"
      ],
      "metadata": {
        "id": "uxMiD6E2YTQZ"
      },
      "execution_count": 9,
      "outputs": []
    },
    {
      "cell_type": "code",
      "source": [
        "# spitting data X dan y menjadi training data dan testing data secara manual\n",
        "# secara default splitting data training 80% dan testing data 20% dari keseluruhan data\n",
        "train_pct_index = int(0.8 * len(X))\n",
        "X_train, X_test = X[:train_pct_index], X[train_pct_index:]\n",
        "y_train, y_test = y[:train_pct_index], y[train_pct_index:]\n"
      ],
      "metadata": {
        "id": "aXCjAnd7YcOT"
      },
      "execution_count": 10,
      "outputs": []
    },
    {
      "cell_type": "markdown",
      "source": [
        "## Modeling"
      ],
      "metadata": {
        "id": "tieweQkCYy14"
      }
    },
    {
      "cell_type": "code",
      "source": [
        "dt_cls = DecisionTreeClassifier(max_leaf_nodes = 10, random_state = 0)\n",
        "dt_cls.fit(X_train, y_train)"
      ],
      "metadata": {
        "colab": {
          "base_uri": "https://localhost:8080/",
          "height": 74
        },
        "id": "_Hr4m0ltY0MS",
        "outputId": "3cd7521b-976d-441c-de83-71877eaa0e8f"
      },
      "execution_count": 11,
      "outputs": [
        {
          "output_type": "execute_result",
          "data": {
            "text/plain": [
              "DecisionTreeClassifier(max_leaf_nodes=10, random_state=0)"
            ],
            "text/html": [
              "<style>#sk-container-id-1 {color: black;background-color: white;}#sk-container-id-1 pre{padding: 0;}#sk-container-id-1 div.sk-toggleable {background-color: white;}#sk-container-id-1 label.sk-toggleable__label {cursor: pointer;display: block;width: 100%;margin-bottom: 0;padding: 0.3em;box-sizing: border-box;text-align: center;}#sk-container-id-1 label.sk-toggleable__label-arrow:before {content: \"▸\";float: left;margin-right: 0.25em;color: #696969;}#sk-container-id-1 label.sk-toggleable__label-arrow:hover:before {color: black;}#sk-container-id-1 div.sk-estimator:hover label.sk-toggleable__label-arrow:before {color: black;}#sk-container-id-1 div.sk-toggleable__content {max-height: 0;max-width: 0;overflow: hidden;text-align: left;background-color: #f0f8ff;}#sk-container-id-1 div.sk-toggleable__content pre {margin: 0.2em;color: black;border-radius: 0.25em;background-color: #f0f8ff;}#sk-container-id-1 input.sk-toggleable__control:checked~div.sk-toggleable__content {max-height: 200px;max-width: 100%;overflow: auto;}#sk-container-id-1 input.sk-toggleable__control:checked~label.sk-toggleable__label-arrow:before {content: \"▾\";}#sk-container-id-1 div.sk-estimator input.sk-toggleable__control:checked~label.sk-toggleable__label {background-color: #d4ebff;}#sk-container-id-1 div.sk-label input.sk-toggleable__control:checked~label.sk-toggleable__label {background-color: #d4ebff;}#sk-container-id-1 input.sk-hidden--visually {border: 0;clip: rect(1px 1px 1px 1px);clip: rect(1px, 1px, 1px, 1px);height: 1px;margin: -1px;overflow: hidden;padding: 0;position: absolute;width: 1px;}#sk-container-id-1 div.sk-estimator {font-family: monospace;background-color: #f0f8ff;border: 1px dotted black;border-radius: 0.25em;box-sizing: border-box;margin-bottom: 0.5em;}#sk-container-id-1 div.sk-estimator:hover {background-color: #d4ebff;}#sk-container-id-1 div.sk-parallel-item::after {content: \"\";width: 100%;border-bottom: 1px solid gray;flex-grow: 1;}#sk-container-id-1 div.sk-label:hover label.sk-toggleable__label {background-color: #d4ebff;}#sk-container-id-1 div.sk-serial::before {content: \"\";position: absolute;border-left: 1px solid gray;box-sizing: border-box;top: 0;bottom: 0;left: 50%;z-index: 0;}#sk-container-id-1 div.sk-serial {display: flex;flex-direction: column;align-items: center;background-color: white;padding-right: 0.2em;padding-left: 0.2em;position: relative;}#sk-container-id-1 div.sk-item {position: relative;z-index: 1;}#sk-container-id-1 div.sk-parallel {display: flex;align-items: stretch;justify-content: center;background-color: white;position: relative;}#sk-container-id-1 div.sk-item::before, #sk-container-id-1 div.sk-parallel-item::before {content: \"\";position: absolute;border-left: 1px solid gray;box-sizing: border-box;top: 0;bottom: 0;left: 50%;z-index: -1;}#sk-container-id-1 div.sk-parallel-item {display: flex;flex-direction: column;z-index: 1;position: relative;background-color: white;}#sk-container-id-1 div.sk-parallel-item:first-child::after {align-self: flex-end;width: 50%;}#sk-container-id-1 div.sk-parallel-item:last-child::after {align-self: flex-start;width: 50%;}#sk-container-id-1 div.sk-parallel-item:only-child::after {width: 0;}#sk-container-id-1 div.sk-dashed-wrapped {border: 1px dashed gray;margin: 0 0.4em 0.5em 0.4em;box-sizing: border-box;padding-bottom: 0.4em;background-color: white;}#sk-container-id-1 div.sk-label label {font-family: monospace;font-weight: bold;display: inline-block;line-height: 1.2em;}#sk-container-id-1 div.sk-label-container {text-align: center;}#sk-container-id-1 div.sk-container {/* jupyter's `normalize.less` sets `[hidden] { display: none; }` but bootstrap.min.css set `[hidden] { display: none !important; }` so we also need the `!important` here to be able to override the default hidden behavior on the sphinx rendered scikit-learn.org. See: https://github.com/scikit-learn/scikit-learn/issues/21755 */display: inline-block !important;position: relative;}#sk-container-id-1 div.sk-text-repr-fallback {display: none;}</style><div id=\"sk-container-id-1\" class=\"sk-top-container\"><div class=\"sk-text-repr-fallback\"><pre>DecisionTreeClassifier(max_leaf_nodes=10, random_state=0)</pre><b>In a Jupyter environment, please rerun this cell to show the HTML representation or trust the notebook. <br />On GitHub, the HTML representation is unable to render, please try loading this page with nbviewer.org.</b></div><div class=\"sk-container\" hidden><div class=\"sk-item\"><div class=\"sk-estimator sk-toggleable\"><input class=\"sk-toggleable__control sk-hidden--visually\" id=\"sk-estimator-id-1\" type=\"checkbox\" checked><label for=\"sk-estimator-id-1\" class=\"sk-toggleable__label sk-toggleable__label-arrow\">DecisionTreeClassifier</label><div class=\"sk-toggleable__content\"><pre>DecisionTreeClassifier(max_leaf_nodes=10, random_state=0)</pre></div></div></div></div></div>"
            ]
          },
          "metadata": {},
          "execution_count": 11
        }
      ]
    },
    {
      "cell_type": "markdown",
      "source": [
        "## Evaluation"
      ],
      "metadata": {
        "id": "NEKRLKfhY7tz"
      }
    },
    {
      "cell_type": "markdown",
      "source": [
        "### Prediction"
      ],
      "metadata": {
        "id": "R_RAY_N1Y9eB"
      }
    },
    {
      "cell_type": "code",
      "source": [
        "y_pred = dt_cls.predict(X_test)\n",
        "y_pred"
      ],
      "metadata": {
        "colab": {
          "base_uri": "https://localhost:8080/"
        },
        "id": "GOIBwwb3Y_Hj",
        "outputId": "51188f08-b0da-45c0-a6c1-da91de559f61"
      },
      "execution_count": 12,
      "outputs": [
        {
          "output_type": "execute_result",
          "data": {
            "text/plain": [
              "array([1, 0, 1, 1, 1, 0, 1, 0, 1, 1, 1, 0, 0, 1, 0, 1, 0, 1, 1, 1, 1, 1,\n",
              "       1, 0, 1, 0, 0, 0, 1, 0, 1, 1, 1, 1, 1, 0, 0, 1, 0, 1, 0, 1, 1, 0,\n",
              "       0, 1, 1, 0, 1, 0, 0, 1, 0, 1, 1, 1, 1, 1, 0, 1, 0, 0, 1, 1, 0, 0,\n",
              "       1, 1, 0, 0, 1, 1, 1, 0, 0, 0, 1, 0, 1, 1, 0, 0, 1, 1, 1, 1, 0, 1,\n",
              "       1, 0, 1, 1, 0, 1, 0, 0, 0, 1, 1, 1, 1, 1, 0, 0, 1, 0, 0, 1, 0, 1,\n",
              "       0, 1, 1, 0, 0, 1, 0, 1, 1, 0, 0, 1, 1, 0, 1, 1, 0, 0, 1, 0, 1, 1,\n",
              "       1, 0, 0, 1, 1, 1, 0, 0, 1, 0, 1, 1, 1, 1, 0, 0, 1, 1, 1, 1, 0, 0,\n",
              "       1, 1, 1, 0, 0, 0, 0, 1, 1, 1, 0, 1, 1, 1, 1, 1, 1, 0, 0, 1, 0, 0,\n",
              "       1, 1, 1, 1, 1, 0, 1, 1, 1, 1, 0, 1, 1, 1, 0, 1, 1, 0, 0, 0, 0, 1,\n",
              "       1, 0, 1, 0, 1, 1, 1, 1, 1, 1, 1, 1, 1, 1, 0])"
            ]
          },
          "metadata": {},
          "execution_count": 12
        }
      ]
    },
    {
      "cell_type": "code",
      "source": [
        "acc = accuracy_score(y_test, y_pred)\n",
        "print('Accuracy: %.3f' % acc)"
      ],
      "metadata": {
        "colab": {
          "base_uri": "https://localhost:8080/"
        },
        "id": "2xDu1xp_ZGTu",
        "outputId": "4a2806d9-5367-4e37-abfc-d343ff77448f"
      },
      "execution_count": 13,
      "outputs": [
        {
          "output_type": "stream",
          "name": "stdout",
          "text": [
            "Accuracy: 0.789\n"
          ]
        }
      ]
    }
  ]
}