{
  "nbformat": 4,
  "nbformat_minor": 0,
  "metadata": {
    "colab": {
      "provenance": []
    },
    "kernelspec": {
      "name": "python3",
      "display_name": "Python 3"
    },
    "language_info": {
      "name": "python"
    }
  },
  "cells": [
    {
      "cell_type": "markdown",
      "source": [
        "Nama  : Ferli Malkan Amien <br>\n",
        "NPM   : 2117051050 <br>\n",
        "Kelas : C"
      ],
      "metadata": {
        "id": "7BuB0NAWsxfZ"
      }
    },
    {
      "cell_type": "markdown",
      "source": [
        "# Pertemuan 1\n",
        "*    Pemrograman Dasar di Python\n",
        "\n"
      ],
      "metadata": {
        "id": "VCgtDeroII46"
      }
    },
    {
      "cell_type": "markdown",
      "source": [
        "## Variable\n",
        "\n",
        "Deklarasi nilai ke dalam vareiabel"
      ],
      "metadata": {
        "id": "lbIR5GWbIUKY"
      }
    },
    {
      "cell_type": "code",
      "source": [
        "# Input \"8\" ke dalam variabel A\n",
        "A = 8\n",
        "print(A)\n",
        "print(\"Output: \", A)"
      ],
      "metadata": {
        "id": "a3D6PNjgIYdA",
        "colab": {
          "base_uri": "https://localhost:8080/"
        },
        "outputId": "6f6721d1-a377-4549-80ec-6c5fec9194f8"
      },
      "execution_count": 1,
      "outputs": [
        {
          "output_type": "stream",
          "name": "stdout",
          "text": [
            "8\n",
            "Output:  8\n"
          ]
        }
      ]
    },
    {
      "cell_type": "code",
      "source": [
        "A = \"8\"\n",
        "print(A)\n",
        "print(type(A))\n",
        "B = int(A)\n",
        "print(B)\n",
        "print(type(B))"
      ],
      "metadata": {
        "id": "L8dF0Iz0IjnR",
        "colab": {
          "base_uri": "https://localhost:8080/"
        },
        "outputId": "08c1bb8a-836b-4b33-e75c-f769933824a3"
      },
      "execution_count": 2,
      "outputs": [
        {
          "output_type": "stream",
          "name": "stdout",
          "text": [
            "8\n",
            "<class 'str'>\n",
            "8\n",
            "<class 'int'>\n"
          ]
        }
      ]
    },
    {
      "cell_type": "code",
      "source": [
        "# input nilai sebagai list\n",
        "nilai = [70, 80, 90, 100, 85]\n",
        "# nilai\n",
        "print(nilai)"
      ],
      "metadata": {
        "id": "N5pAvu19K4x9",
        "colab": {
          "base_uri": "https://localhost:8080/"
        },
        "outputId": "a2d743dc-43d8-4c49-96d2-2e8dae16c6f3"
      },
      "execution_count": 3,
      "outputs": [
        {
          "output_type": "stream",
          "name": "stdout",
          "text": [
            "[70, 80, 90, 100, 85]\n"
          ]
        }
      ]
    },
    {
      "cell_type": "code",
      "source": [
        "data = [80, \"A\", \"Joni\"]\n",
        "print(data)"
      ],
      "metadata": {
        "colab": {
          "base_uri": "https://localhost:8080/"
        },
        "id": "oK9Qj_I9NICz",
        "outputId": "4b8d24a8-872f-4479-8981-6e2c0471f093"
      },
      "execution_count": 4,
      "outputs": [
        {
          "output_type": "stream",
          "name": "stdout",
          "text": [
            "[80, 'A', 'Joni']\n"
          ]
        }
      ]
    },
    {
      "cell_type": "markdown",
      "source": [
        "## Conditional\n",
        "Mengeksekusi nilai berdasarkan kondisi"
      ],
      "metadata": {
        "id": "gzTJj2i9NM09"
      }
    },
    {
      "cell_type": "code",
      "source": [
        "if 7 == A:\n",
        "  print(\"Nilai 7 sama dengan nilai A yang mana adalah\", A)\n",
        "else:\n",
        "  print(\"Nilai 7 tidak sama dengan nilai A yang mana adalah\", A)"
      ],
      "metadata": {
        "colab": {
          "base_uri": "https://localhost:8080/"
        },
        "id": "LXPd-MWsOW82",
        "outputId": "3b90e689-0e2e-49c3-a408-751a5037eff3"
      },
      "execution_count": 5,
      "outputs": [
        {
          "output_type": "stream",
          "name": "stdout",
          "text": [
            "Nilai 7 tidak sama dengan nilai A yang mana adalah 8\n"
          ]
        }
      ]
    },
    {
      "cell_type": "code",
      "source": [
        "# mengecek nilai didalam list\n",
        "if 70 in nilai:\n",
        "  print(\"ada nilai 70 didalam list\")\n",
        "else:\n",
        "  print(\"tidak ada didalam list\")"
      ],
      "metadata": {
        "colab": {
          "base_uri": "https://localhost:8080/"
        },
        "id": "m3ElBjDcNMWd",
        "outputId": "726d869f-c946-42d1-ad93-b43b30b97d7c"
      },
      "execution_count": 6,
      "outputs": [
        {
          "output_type": "stream",
          "name": "stdout",
          "text": [
            "ada nilai 70 didalam list\n"
          ]
        }
      ]
    },
    {
      "cell_type": "markdown",
      "source": [
        "## Looping\n",
        "Mengeksekusi nilai berdasarkan perulangan"
      ],
      "metadata": {
        "id": "j0dAUowDPyNx"
      }
    },
    {
      "cell_type": "code",
      "source": [
        "# mencetak perkalian angka 2 dengan angka 0 sampai 1q0\n",
        "for i in range(10):\n",
        "  print(i*2)"
      ],
      "metadata": {
        "colab": {
          "base_uri": "https://localhost:8080/"
        },
        "id": "FoPp210DP2Fm",
        "outputId": "f80d8e20-17f9-4e92-85e1-62008a45b3cc"
      },
      "execution_count": 7,
      "outputs": [
        {
          "output_type": "stream",
          "name": "stdout",
          "text": [
            "0\n",
            "2\n",
            "4\n",
            "6\n",
            "8\n",
            "10\n",
            "12\n",
            "14\n",
            "16\n",
            "18\n"
          ]
        }
      ]
    },
    {
      "cell_type": "markdown",
      "source": [
        "## Function"
      ],
      "metadata": {
        "id": "SUWzkpnDQrxm"
      }
    },
    {
      "cell_type": "markdown",
      "source": [
        "### User Define Fuction\n",
        "Mendeklarasikan fungsi yang dibuat sendiri dengan awalan def nama_fungsi(parameter): isi fungsi"
      ],
      "metadata": {
        "id": "Q8_BeNRaQ36t"
      }
    },
    {
      "cell_type": "code",
      "source": [
        "# fungsi yang mencetak suatu nilai\n",
        "def cetak_a():\n",
        "  print(\"A\")\n",
        "\n",
        "# panggil fungsi cetak_a\n",
        "cetak_a()"
      ],
      "metadata": {
        "colab": {
          "base_uri": "https://localhost:8080/"
        },
        "id": "dvspQ9_LRBTJ",
        "outputId": "b083f9ea-a7ac-4d52-f2c7-5e00542cd4d0"
      },
      "execution_count": 8,
      "outputs": [
        {
          "output_type": "stream",
          "name": "stdout",
          "text": [
            "A\n"
          ]
        }
      ]
    },
    {
      "cell_type": "code",
      "source": [
        "# fungsi yang mengembalikan suatu niai dari suatu masukan\n",
        "def cetak_pangkat_dua(x):\n",
        "  x = x**2\n",
        "  return x\n",
        "\n",
        "# panggil fungsi cetak_pangkat_dua dengan inputan tertentu\n",
        "cetak_pangkat_dua(4)\n",
        "print(cetak_pangkat_dua(4))"
      ],
      "metadata": {
        "colab": {
          "base_uri": "https://localhost:8080/"
        },
        "id": "7xvcUQmgRLGX",
        "outputId": "1c94f23d-742a-4c32-d775-4c4ee3319502"
      },
      "execution_count": 9,
      "outputs": [
        {
          "output_type": "stream",
          "name": "stdout",
          "text": [
            "16\n"
          ]
        }
      ]
    },
    {
      "cell_type": "markdown",
      "source": [
        "### Buit-in Function\n",
        "Memanggil fungsi bawaan dari Python"
      ],
      "metadata": {
        "id": "t7VCCE6ES1Yg"
      }
    },
    {
      "cell_type": "code",
      "source": [
        "# nilai = [70, 80, 90, 100, 85]\n",
        "# memanggil fungsi len untuk mencetak jumalh item dari list\n",
        "print(len(nilai))\n",
        "\n",
        "# memanggil fungsi max untuk mencetak item terbesar dari list\n",
        "print(max(nilai))\n",
        "\n",
        "# untuk tahu fungsi bawaan dari library yang ada, perlu baca dokumentasinya"
      ],
      "metadata": {
        "colab": {
          "base_uri": "https://localhost:8080/"
        },
        "id": "kga3YinrS6aE",
        "outputId": "f668f84c-e81c-4fff-fe31-f672b0fba7cf"
      },
      "execution_count": 10,
      "outputs": [
        {
          "output_type": "stream",
          "name": "stdout",
          "text": [
            "5\n",
            "100\n"
          ]
        }
      ]
    },
    {
      "cell_type": "markdown",
      "source": [
        "## Library\n",
        "Sekumpulan kode yang memiliki fungsi-fungsi tertentu dan dapat dipanggil ke dalam program lain"
      ],
      "metadata": {
        "id": "RJS5bPjsTK4W"
      }
    },
    {
      "cell_type": "code",
      "source": [
        "# deklarasi libarary dengan fungsi yang ada di dalamnya\n",
        "import numpy as np\n",
        "\n",
        "# inisiasi vector dan nilai skalar\n",
        "list1 = [1,2,3,4,5]\n",
        "vtr1 = np.array(list1)\n",
        "scalar_value = 10\n",
        "\n",
        "# operasi perkalian vector-scalar\n",
        "vtr_scalar = vtr1 * scalar_value\n",
        "print(vtr_scalar)"
      ],
      "metadata": {
        "colab": {
          "base_uri": "https://localhost:8080/"
        },
        "id": "vpLLPmVNUGr_",
        "outputId": "0d41078c-e19d-4b81-923b-3b15af1126c5"
      },
      "execution_count": 11,
      "outputs": [
        {
          "output_type": "stream",
          "name": "stdout",
          "text": [
            "[10 20 30 40 50]\n"
          ]
        }
      ]
    },
    {
      "cell_type": "code",
      "source": [
        "# deklarasi library dengan menggunakan nama alias\n",
        "import pandas as pd\n",
        "\n",
        "# membuat variabel dataframe (df) dengan isi list nilai dan nama kolom \"nilai\"\n",
        "df = pd.DataFrame(nilai, columns = [\"nilai\"])\n",
        "df #dataframe"
      ],
      "metadata": {
        "colab": {
          "base_uri": "https://localhost:8080/",
          "height": 206
        },
        "id": "IdpvAvkVWT6C",
        "outputId": "df166baf-0778-4057-d458-f1a542f59e41"
      },
      "execution_count": 12,
      "outputs": [
        {
          "output_type": "execute_result",
          "data": {
            "text/plain": [
              "   nilai\n",
              "0     70\n",
              "1     80\n",
              "2     90\n",
              "3    100\n",
              "4     85"
            ],
            "text/html": [
              "\n",
              "  <div id=\"df-45ccb3c4-577f-4221-907e-edc5804996d0\">\n",
              "    <div class=\"colab-df-container\">\n",
              "      <div>\n",
              "<style scoped>\n",
              "    .dataframe tbody tr th:only-of-type {\n",
              "        vertical-align: middle;\n",
              "    }\n",
              "\n",
              "    .dataframe tbody tr th {\n",
              "        vertical-align: top;\n",
              "    }\n",
              "\n",
              "    .dataframe thead th {\n",
              "        text-align: right;\n",
              "    }\n",
              "</style>\n",
              "<table border=\"1\" class=\"dataframe\">\n",
              "  <thead>\n",
              "    <tr style=\"text-align: right;\">\n",
              "      <th></th>\n",
              "      <th>nilai</th>\n",
              "    </tr>\n",
              "  </thead>\n",
              "  <tbody>\n",
              "    <tr>\n",
              "      <th>0</th>\n",
              "      <td>70</td>\n",
              "    </tr>\n",
              "    <tr>\n",
              "      <th>1</th>\n",
              "      <td>80</td>\n",
              "    </tr>\n",
              "    <tr>\n",
              "      <th>2</th>\n",
              "      <td>90</td>\n",
              "    </tr>\n",
              "    <tr>\n",
              "      <th>3</th>\n",
              "      <td>100</td>\n",
              "    </tr>\n",
              "    <tr>\n",
              "      <th>4</th>\n",
              "      <td>85</td>\n",
              "    </tr>\n",
              "  </tbody>\n",
              "</table>\n",
              "</div>\n",
              "      <button class=\"colab-df-convert\" onclick=\"convertToInteractive('df-45ccb3c4-577f-4221-907e-edc5804996d0')\"\n",
              "              title=\"Convert this dataframe to an interactive table.\"\n",
              "              style=\"display:none;\">\n",
              "        \n",
              "  <svg xmlns=\"http://www.w3.org/2000/svg\" height=\"24px\"viewBox=\"0 0 24 24\"\n",
              "       width=\"24px\">\n",
              "    <path d=\"M0 0h24v24H0V0z\" fill=\"none\"/>\n",
              "    <path d=\"M18.56 5.44l.94 2.06.94-2.06 2.06-.94-2.06-.94-.94-2.06-.94 2.06-2.06.94zm-11 1L8.5 8.5l.94-2.06 2.06-.94-2.06-.94L8.5 2.5l-.94 2.06-2.06.94zm10 10l.94 2.06.94-2.06 2.06-.94-2.06-.94-.94-2.06-.94 2.06-2.06.94z\"/><path d=\"M17.41 7.96l-1.37-1.37c-.4-.4-.92-.59-1.43-.59-.52 0-1.04.2-1.43.59L10.3 9.45l-7.72 7.72c-.78.78-.78 2.05 0 2.83L4 21.41c.39.39.9.59 1.41.59.51 0 1.02-.2 1.41-.59l7.78-7.78 2.81-2.81c.8-.78.8-2.07 0-2.86zM5.41 20L4 18.59l7.72-7.72 1.47 1.35L5.41 20z\"/>\n",
              "  </svg>\n",
              "      </button>\n",
              "      \n",
              "  <style>\n",
              "    .colab-df-container {\n",
              "      display:flex;\n",
              "      flex-wrap:wrap;\n",
              "      gap: 12px;\n",
              "    }\n",
              "\n",
              "    .colab-df-convert {\n",
              "      background-color: #E8F0FE;\n",
              "      border: none;\n",
              "      border-radius: 50%;\n",
              "      cursor: pointer;\n",
              "      display: none;\n",
              "      fill: #1967D2;\n",
              "      height: 32px;\n",
              "      padding: 0 0 0 0;\n",
              "      width: 32px;\n",
              "    }\n",
              "\n",
              "    .colab-df-convert:hover {\n",
              "      background-color: #E2EBFA;\n",
              "      box-shadow: 0px 1px 2px rgba(60, 64, 67, 0.3), 0px 1px 3px 1px rgba(60, 64, 67, 0.15);\n",
              "      fill: #174EA6;\n",
              "    }\n",
              "\n",
              "    [theme=dark] .colab-df-convert {\n",
              "      background-color: #3B4455;\n",
              "      fill: #D2E3FC;\n",
              "    }\n",
              "\n",
              "    [theme=dark] .colab-df-convert:hover {\n",
              "      background-color: #434B5C;\n",
              "      box-shadow: 0px 1px 3px 1px rgba(0, 0, 0, 0.15);\n",
              "      filter: drop-shadow(0px 1px 2px rgba(0, 0, 0, 0.3));\n",
              "      fill: #FFFFFF;\n",
              "    }\n",
              "  </style>\n",
              "\n",
              "      <script>\n",
              "        const buttonEl =\n",
              "          document.querySelector('#df-45ccb3c4-577f-4221-907e-edc5804996d0 button.colab-df-convert');\n",
              "        buttonEl.style.display =\n",
              "          google.colab.kernel.accessAllowed ? 'block' : 'none';\n",
              "\n",
              "        async function convertToInteractive(key) {\n",
              "          const element = document.querySelector('#df-45ccb3c4-577f-4221-907e-edc5804996d0');\n",
              "          const dataTable =\n",
              "            await google.colab.kernel.invokeFunction('convertToInteractive',\n",
              "                                                     [key], {});\n",
              "          if (!dataTable) return;\n",
              "\n",
              "          const docLinkHtml = 'Like what you see? Visit the ' +\n",
              "            '<a target=\"_blank\" href=https://colab.research.google.com/notebooks/data_table.ipynb>data table notebook</a>'\n",
              "            + ' to learn more about interactive tables.';\n",
              "          element.innerHTML = '';\n",
              "          dataTable['output_type'] = 'display_data';\n",
              "          await google.colab.output.renderOutput(dataTable, element);\n",
              "          const docLink = document.createElement('div');\n",
              "          docLink.innerHTML = docLinkHtml;\n",
              "          element.appendChild(docLink);\n",
              "        }\n",
              "      </script>\n",
              "    </div>\n",
              "  </div>\n",
              "  "
            ]
          },
          "metadata": {},
          "execution_count": 12
        }
      ]
    },
    {
      "cell_type": "markdown",
      "source": [
        "# Tugas Responsi 1 - Machine Learning\n"
      ],
      "metadata": {
        "id": "ezNKzADGtFye"
      }
    },
    {
      "cell_type": "code",
      "source": [
        "import numpy as np\n",
        "import pandas as pd"
      ],
      "metadata": {
        "id": "seNFsJ1ItPUA"
      },
      "execution_count": 13,
      "outputs": []
    },
    {
      "cell_type": "markdown",
      "source": [
        "## Nomor 1"
      ],
      "metadata": {
        "id": "RUhTM972tKTb"
      }
    },
    {
      "cell_type": "code",
      "source": [
        "list_1 = [1, 2, 3, 4, 5]\n",
        "list_2 = [2, 4, 6, 8, 10]\n",
        "\n",
        "vector_1 = np.array(list_1)\n",
        "vector_2 = np.array(list_2)\n",
        "\n",
        "print(vector_1 * vector_2)"
      ],
      "metadata": {
        "colab": {
          "base_uri": "https://localhost:8080/"
        },
        "id": "cVOHJ2OZtSc7",
        "outputId": "a98e73f4-0da2-49a5-efa5-ed5fdd9418f3"
      },
      "execution_count": 14,
      "outputs": [
        {
          "output_type": "stream",
          "name": "stdout",
          "text": [
            "[ 2  8 18 32 50]\n"
          ]
        }
      ]
    },
    {
      "cell_type": "markdown",
      "source": [
        "## Nomor 2"
      ],
      "metadata": {
        "id": "Z2c6XV7wtUcD"
      }
    },
    {
      "cell_type": "code",
      "source": [
        "Mahasiswa = ['Andi', 'Budi', 'Caca', 'Didi']\n",
        "Nilai = [7, 6, 10, 8]\n",
        "\n",
        "keterangan = [\"lulus\" if nilai >= 7 else \"belum lulus\" for nilai in Nilai]\n",
        "\n",
        "df = pd.DataFrame({'mahasiswa': Mahasiswa, 'nilai': Nilai, 'keterangan': keterangan})\n",
        "df"
      ],
      "metadata": {
        "colab": {
          "base_uri": "https://localhost:8080/",
          "height": 174
        },
        "id": "VXTgk4fntVq-",
        "outputId": "2b5e8eac-92b2-43aa-8f02-f227a16eb74c"
      },
      "execution_count": 15,
      "outputs": [
        {
          "output_type": "execute_result",
          "data": {
            "text/plain": [
              "  mahasiswa  nilai   keterangan\n",
              "0      Andi      7        lulus\n",
              "1      Budi      6  belum lulus\n",
              "2      Caca     10        lulus\n",
              "3      Didi      8        lulus"
            ],
            "text/html": [
              "\n",
              "  <div id=\"df-7d537791-ac70-4fa0-9c16-539e69e92a9a\">\n",
              "    <div class=\"colab-df-container\">\n",
              "      <div>\n",
              "<style scoped>\n",
              "    .dataframe tbody tr th:only-of-type {\n",
              "        vertical-align: middle;\n",
              "    }\n",
              "\n",
              "    .dataframe tbody tr th {\n",
              "        vertical-align: top;\n",
              "    }\n",
              "\n",
              "    .dataframe thead th {\n",
              "        text-align: right;\n",
              "    }\n",
              "</style>\n",
              "<table border=\"1\" class=\"dataframe\">\n",
              "  <thead>\n",
              "    <tr style=\"text-align: right;\">\n",
              "      <th></th>\n",
              "      <th>mahasiswa</th>\n",
              "      <th>nilai</th>\n",
              "      <th>keterangan</th>\n",
              "    </tr>\n",
              "  </thead>\n",
              "  <tbody>\n",
              "    <tr>\n",
              "      <th>0</th>\n",
              "      <td>Andi</td>\n",
              "      <td>7</td>\n",
              "      <td>lulus</td>\n",
              "    </tr>\n",
              "    <tr>\n",
              "      <th>1</th>\n",
              "      <td>Budi</td>\n",
              "      <td>6</td>\n",
              "      <td>belum lulus</td>\n",
              "    </tr>\n",
              "    <tr>\n",
              "      <th>2</th>\n",
              "      <td>Caca</td>\n",
              "      <td>10</td>\n",
              "      <td>lulus</td>\n",
              "    </tr>\n",
              "    <tr>\n",
              "      <th>3</th>\n",
              "      <td>Didi</td>\n",
              "      <td>8</td>\n",
              "      <td>lulus</td>\n",
              "    </tr>\n",
              "  </tbody>\n",
              "</table>\n",
              "</div>\n",
              "      <button class=\"colab-df-convert\" onclick=\"convertToInteractive('df-7d537791-ac70-4fa0-9c16-539e69e92a9a')\"\n",
              "              title=\"Convert this dataframe to an interactive table.\"\n",
              "              style=\"display:none;\">\n",
              "        \n",
              "  <svg xmlns=\"http://www.w3.org/2000/svg\" height=\"24px\"viewBox=\"0 0 24 24\"\n",
              "       width=\"24px\">\n",
              "    <path d=\"M0 0h24v24H0V0z\" fill=\"none\"/>\n",
              "    <path d=\"M18.56 5.44l.94 2.06.94-2.06 2.06-.94-2.06-.94-.94-2.06-.94 2.06-2.06.94zm-11 1L8.5 8.5l.94-2.06 2.06-.94-2.06-.94L8.5 2.5l-.94 2.06-2.06.94zm10 10l.94 2.06.94-2.06 2.06-.94-2.06-.94-.94-2.06-.94 2.06-2.06.94z\"/><path d=\"M17.41 7.96l-1.37-1.37c-.4-.4-.92-.59-1.43-.59-.52 0-1.04.2-1.43.59L10.3 9.45l-7.72 7.72c-.78.78-.78 2.05 0 2.83L4 21.41c.39.39.9.59 1.41.59.51 0 1.02-.2 1.41-.59l7.78-7.78 2.81-2.81c.8-.78.8-2.07 0-2.86zM5.41 20L4 18.59l7.72-7.72 1.47 1.35L5.41 20z\"/>\n",
              "  </svg>\n",
              "      </button>\n",
              "      \n",
              "  <style>\n",
              "    .colab-df-container {\n",
              "      display:flex;\n",
              "      flex-wrap:wrap;\n",
              "      gap: 12px;\n",
              "    }\n",
              "\n",
              "    .colab-df-convert {\n",
              "      background-color: #E8F0FE;\n",
              "      border: none;\n",
              "      border-radius: 50%;\n",
              "      cursor: pointer;\n",
              "      display: none;\n",
              "      fill: #1967D2;\n",
              "      height: 32px;\n",
              "      padding: 0 0 0 0;\n",
              "      width: 32px;\n",
              "    }\n",
              "\n",
              "    .colab-df-convert:hover {\n",
              "      background-color: #E2EBFA;\n",
              "      box-shadow: 0px 1px 2px rgba(60, 64, 67, 0.3), 0px 1px 3px 1px rgba(60, 64, 67, 0.15);\n",
              "      fill: #174EA6;\n",
              "    }\n",
              "\n",
              "    [theme=dark] .colab-df-convert {\n",
              "      background-color: #3B4455;\n",
              "      fill: #D2E3FC;\n",
              "    }\n",
              "\n",
              "    [theme=dark] .colab-df-convert:hover {\n",
              "      background-color: #434B5C;\n",
              "      box-shadow: 0px 1px 3px 1px rgba(0, 0, 0, 0.15);\n",
              "      filter: drop-shadow(0px 1px 2px rgba(0, 0, 0, 0.3));\n",
              "      fill: #FFFFFF;\n",
              "    }\n",
              "  </style>\n",
              "\n",
              "      <script>\n",
              "        const buttonEl =\n",
              "          document.querySelector('#df-7d537791-ac70-4fa0-9c16-539e69e92a9a button.colab-df-convert');\n",
              "        buttonEl.style.display =\n",
              "          google.colab.kernel.accessAllowed ? 'block' : 'none';\n",
              "\n",
              "        async function convertToInteractive(key) {\n",
              "          const element = document.querySelector('#df-7d537791-ac70-4fa0-9c16-539e69e92a9a');\n",
              "          const dataTable =\n",
              "            await google.colab.kernel.invokeFunction('convertToInteractive',\n",
              "                                                     [key], {});\n",
              "          if (!dataTable) return;\n",
              "\n",
              "          const docLinkHtml = 'Like what you see? Visit the ' +\n",
              "            '<a target=\"_blank\" href=https://colab.research.google.com/notebooks/data_table.ipynb>data table notebook</a>'\n",
              "            + ' to learn more about interactive tables.';\n",
              "          element.innerHTML = '';\n",
              "          dataTable['output_type'] = 'display_data';\n",
              "          await google.colab.output.renderOutput(dataTable, element);\n",
              "          const docLink = document.createElement('div');\n",
              "          docLink.innerHTML = docLinkHtml;\n",
              "          element.appendChild(docLink);\n",
              "        }\n",
              "      </script>\n",
              "    </div>\n",
              "  </div>\n",
              "  "
            ]
          },
          "metadata": {},
          "execution_count": 15
        }
      ]
    },
    {
      "cell_type": "markdown",
      "source": [
        "## Nomor 3"
      ],
      "metadata": {
        "id": "D5jBihnktX5A"
      }
    },
    {
      "cell_type": "code",
      "source": [
        "# Persentase lulus\n",
        "\n",
        "lulus = df['keterangan'].value_counts()[\"lulus\"]\n",
        "persentase = (lulus / len(df['keterangan'])) * 100\n",
        "print('{:.1f}%'.format(persentase))"
      ],
      "metadata": {
        "colab": {
          "base_uri": "https://localhost:8080/"
        },
        "id": "F9v4z-yotZ0k",
        "outputId": "798df493-72b9-406e-d8fa-473a8854a9e0"
      },
      "execution_count": 16,
      "outputs": [
        {
          "output_type": "stream",
          "name": "stdout",
          "text": [
            "75.0%\n"
          ]
        }
      ]
    }
  ]
}