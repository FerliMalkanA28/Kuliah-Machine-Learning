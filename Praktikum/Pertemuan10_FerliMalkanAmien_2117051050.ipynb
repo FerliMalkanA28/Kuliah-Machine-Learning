{
 "nbformat": 4,
 "nbformat_minor": 0,
 "metadata": {
  "colab": {
   "provenance": []
  },
  "kernelspec": {
   "name": "python3",
   "language": "python",
   "display_name": "Python 3 (ipykernel)"
  },
  "language_info": {
   "name": "python"
  }
 },
 "cells": [
  {
   "cell_type": "markdown",
   "source": [
    "Nama : Ferli Malkan Amien <br>\n",
    "NPM  : 2117051050 <br>\n",
    "Kelas: C <br>\n",
    "Link : https://colab.research.google.com/drive/1xiPE2FoChovhTpfWNB1Z1eXmQxhIBN31?usp=sharing"
   ],
   "metadata": {
    "id": "yunA6u-DDYEZ"
   }
  },
  {
   "cell_type": "markdown",
   "source": [
    "# **Pertemuan 10**\n",
    "Naive Bayes"
   ],
   "metadata": {
    "id": "VYBazdpUoNKe"
   }
  },
  {
   "cell_type": "markdown",
   "source": [
    "## Library"
   ],
   "metadata": {
    "id": "_9QT3xQVoRsG"
   }
  },
  {
   "cell_type": "code",
   "source": [
    "import pandas as pd\n",
    "import numpy as np\n",
    "\n",
    "from sklearn.preprocessing import LabelEncoder\n",
    "from sklearn.naive_bayes import GaussianNB"
   ],
   "metadata": {
    "id": "ddpOFMtNoRT_",
    "ExecuteTime": {
     "end_time": "2023-05-14T07:28:32.719828400Z",
     "start_time": "2023-05-14T07:28:31.206386300Z"
    }
   },
   "execution_count": 1,
   "outputs": []
  },
  {
   "cell_type": "markdown",
   "source": [
    "## Load Data"
   ],
   "metadata": {
    "id": "S0V7AZvRocNf"
   }
  },
  {
   "cell_type": "code",
   "execution_count": 2,
   "metadata": {
    "colab": {
     "base_uri": "https://localhost:8080/",
     "height": 488
    },
    "id": "oJ6a1viRoLCk",
    "outputId": "6544f0ca-6c7e-418d-9aa1-3bd379fe32a4",
    "ExecuteTime": {
     "end_time": "2023-05-14T07:28:35.512791200Z",
     "start_time": "2023-05-14T07:28:32.718823200Z"
    }
   },
   "outputs": [
    {
     "data": {
      "text/plain": "     Outlook  Temp Humidity Windy Play\n0      Rainy   Hot     High     f   no\n1      Rainy   Hot     High     t   no\n2   Overcast   Hot     High     f  yes\n3      Sunny  Mild     High     f  yes\n4      Sunny  Cool   Normal     f  yes\n5      Sunny  Cool   Normal     t   no\n6   Overcast  Cool   Normal     t  yes\n7      Rainy  Mild     High     f   no\n8      Rainy  Cool   Normal     f  yes\n9      Sunny  Mild   Normal     f  yes\n10     Rainy  Mild   Normal     t  yes\n11  Overcast  Mild     High     t  yes\n12  Overcast   Hot   Normal     f  yes\n13     Sunny  Mild     High     t   no",
      "text/html": "<div>\n<style scoped>\n    .dataframe tbody tr th:only-of-type {\n        vertical-align: middle;\n    }\n\n    .dataframe tbody tr th {\n        vertical-align: top;\n    }\n\n    .dataframe thead th {\n        text-align: right;\n    }\n</style>\n<table border=\"1\" class=\"dataframe\">\n  <thead>\n    <tr style=\"text-align: right;\">\n      <th></th>\n      <th>Outlook</th>\n      <th>Temp</th>\n      <th>Humidity</th>\n      <th>Windy</th>\n      <th>Play</th>\n    </tr>\n  </thead>\n  <tbody>\n    <tr>\n      <th>0</th>\n      <td>Rainy</td>\n      <td>Hot</td>\n      <td>High</td>\n      <td>f</td>\n      <td>no</td>\n    </tr>\n    <tr>\n      <th>1</th>\n      <td>Rainy</td>\n      <td>Hot</td>\n      <td>High</td>\n      <td>t</td>\n      <td>no</td>\n    </tr>\n    <tr>\n      <th>2</th>\n      <td>Overcast</td>\n      <td>Hot</td>\n      <td>High</td>\n      <td>f</td>\n      <td>yes</td>\n    </tr>\n    <tr>\n      <th>3</th>\n      <td>Sunny</td>\n      <td>Mild</td>\n      <td>High</td>\n      <td>f</td>\n      <td>yes</td>\n    </tr>\n    <tr>\n      <th>4</th>\n      <td>Sunny</td>\n      <td>Cool</td>\n      <td>Normal</td>\n      <td>f</td>\n      <td>yes</td>\n    </tr>\n    <tr>\n      <th>5</th>\n      <td>Sunny</td>\n      <td>Cool</td>\n      <td>Normal</td>\n      <td>t</td>\n      <td>no</td>\n    </tr>\n    <tr>\n      <th>6</th>\n      <td>Overcast</td>\n      <td>Cool</td>\n      <td>Normal</td>\n      <td>t</td>\n      <td>yes</td>\n    </tr>\n    <tr>\n      <th>7</th>\n      <td>Rainy</td>\n      <td>Mild</td>\n      <td>High</td>\n      <td>f</td>\n      <td>no</td>\n    </tr>\n    <tr>\n      <th>8</th>\n      <td>Rainy</td>\n      <td>Cool</td>\n      <td>Normal</td>\n      <td>f</td>\n      <td>yes</td>\n    </tr>\n    <tr>\n      <th>9</th>\n      <td>Sunny</td>\n      <td>Mild</td>\n      <td>Normal</td>\n      <td>f</td>\n      <td>yes</td>\n    </tr>\n    <tr>\n      <th>10</th>\n      <td>Rainy</td>\n      <td>Mild</td>\n      <td>Normal</td>\n      <td>t</td>\n      <td>yes</td>\n    </tr>\n    <tr>\n      <th>11</th>\n      <td>Overcast</td>\n      <td>Mild</td>\n      <td>High</td>\n      <td>t</td>\n      <td>yes</td>\n    </tr>\n    <tr>\n      <th>12</th>\n      <td>Overcast</td>\n      <td>Hot</td>\n      <td>Normal</td>\n      <td>f</td>\n      <td>yes</td>\n    </tr>\n    <tr>\n      <th>13</th>\n      <td>Sunny</td>\n      <td>Mild</td>\n      <td>High</td>\n      <td>t</td>\n      <td>no</td>\n    </tr>\n  </tbody>\n</table>\n</div>"
     },
     "execution_count": 2,
     "metadata": {},
     "output_type": "execute_result"
    }
   ],
   "source": [
    "df = pd.read_csv(\"https://raw.githubusercontent.com/rahmantaufik27/dataset/main/study/weather_nb_dataset.csv\")\n",
    "df"
   ]
  },
  {
   "cell_type": "markdown",
   "source": [
    "## Preprocessing"
   ],
   "metadata": {
    "id": "Wd9eFVdIooNp"
   }
  },
  {
   "cell_type": "code",
   "source": [
    "# pisahkan data target\n",
    "X_train = df.drop('Play', axis='columns')\n",
    "y_train = df['Play']"
   ],
   "metadata": {
    "id": "OQqwl-yQo0M7",
    "ExecuteTime": {
     "end_time": "2023-05-14T07:28:35.525914600Z",
     "start_time": "2023-05-14T07:28:35.511784600Z"
    }
   },
   "execution_count": 3,
   "outputs": []
  },
  {
   "cell_type": "markdown",
   "source": [
    "*   Kita ubah nilai outlook, temp, humidity, windy ke integer\n",
    "*   hal ini ditujukan untuk mneyesuaikan nilai inputan modeling naive bayes yang ada di library python"
   ],
   "metadata": {
    "id": "y5hQVwINo7FM"
   }
  },
  {
   "cell_type": "code",
   "source": [
    "# buat dataframe baru dengan encoding data\n",
    "numerics = LabelEncoder()\n",
    "X_train['outlook_n'] = numerics.fit_transform(X_train['Outlook'])\n",
    "X_train['Temp_n'] = numerics.fit_transform(X_train['Temp'])\n",
    "X_train['Humidity_n'] = numerics.fit_transform(X_train['Humidity'])\n",
    "X_train['windy_n'] = numerics.fit_transform(X_train['Windy'])\n",
    "X_train = X_train.drop(['Outlook', 'Temp', 'Humidity', 'Windy'], axis='columns')\n",
    "X_train"
   ],
   "metadata": {
    "colab": {
     "base_uri": "https://localhost:8080/",
     "height": 488
    },
    "id": "3jCql_ospIc9",
    "outputId": "45cd5bbf-9126-49da-9f5c-c19fce986a94",
    "ExecuteTime": {
     "end_time": "2023-05-14T07:28:35.588727300Z",
     "start_time": "2023-05-14T07:28:35.530386500Z"
    }
   },
   "execution_count": 4,
   "outputs": [
    {
     "data": {
      "text/plain": "    outlook_n  Temp_n  Humidity_n  windy_n\n0           1       1           0        0\n1           1       1           0        1\n2           0       1           0        0\n3           2       2           0        0\n4           2       0           1        0\n5           2       0           1        1\n6           0       0           1        1\n7           1       2           0        0\n8           1       0           1        0\n9           2       2           1        0\n10          1       2           1        1\n11          0       2           0        1\n12          0       1           1        0\n13          2       2           0        1",
      "text/html": "<div>\n<style scoped>\n    .dataframe tbody tr th:only-of-type {\n        vertical-align: middle;\n    }\n\n    .dataframe tbody tr th {\n        vertical-align: top;\n    }\n\n    .dataframe thead th {\n        text-align: right;\n    }\n</style>\n<table border=\"1\" class=\"dataframe\">\n  <thead>\n    <tr style=\"text-align: right;\">\n      <th></th>\n      <th>outlook_n</th>\n      <th>Temp_n</th>\n      <th>Humidity_n</th>\n      <th>windy_n</th>\n    </tr>\n  </thead>\n  <tbody>\n    <tr>\n      <th>0</th>\n      <td>1</td>\n      <td>1</td>\n      <td>0</td>\n      <td>0</td>\n    </tr>\n    <tr>\n      <th>1</th>\n      <td>1</td>\n      <td>1</td>\n      <td>0</td>\n      <td>1</td>\n    </tr>\n    <tr>\n      <th>2</th>\n      <td>0</td>\n      <td>1</td>\n      <td>0</td>\n      <td>0</td>\n    </tr>\n    <tr>\n      <th>3</th>\n      <td>2</td>\n      <td>2</td>\n      <td>0</td>\n      <td>0</td>\n    </tr>\n    <tr>\n      <th>4</th>\n      <td>2</td>\n      <td>0</td>\n      <td>1</td>\n      <td>0</td>\n    </tr>\n    <tr>\n      <th>5</th>\n      <td>2</td>\n      <td>0</td>\n      <td>1</td>\n      <td>1</td>\n    </tr>\n    <tr>\n      <th>6</th>\n      <td>0</td>\n      <td>0</td>\n      <td>1</td>\n      <td>1</td>\n    </tr>\n    <tr>\n      <th>7</th>\n      <td>1</td>\n      <td>2</td>\n      <td>0</td>\n      <td>0</td>\n    </tr>\n    <tr>\n      <th>8</th>\n      <td>1</td>\n      <td>0</td>\n      <td>1</td>\n      <td>0</td>\n    </tr>\n    <tr>\n      <th>9</th>\n      <td>2</td>\n      <td>2</td>\n      <td>1</td>\n      <td>0</td>\n    </tr>\n    <tr>\n      <th>10</th>\n      <td>1</td>\n      <td>2</td>\n      <td>1</td>\n      <td>1</td>\n    </tr>\n    <tr>\n      <th>11</th>\n      <td>0</td>\n      <td>2</td>\n      <td>0</td>\n      <td>1</td>\n    </tr>\n    <tr>\n      <th>12</th>\n      <td>0</td>\n      <td>1</td>\n      <td>1</td>\n      <td>0</td>\n    </tr>\n    <tr>\n      <th>13</th>\n      <td>2</td>\n      <td>2</td>\n      <td>0</td>\n      <td>1</td>\n    </tr>\n  </tbody>\n</table>\n</div>"
     },
     "execution_count": 4,
     "metadata": {},
     "output_type": "execute_result"
    }
   ]
  },
  {
   "cell_type": "markdown",
   "source": [
    "\\* bisa jadi hasil dari dataframe baru berdasarkan encoding data tidak sesuai contoh diatas, hal itu tidak masalah karena proses encoding disini random"
   ],
   "metadata": {
    "id": "eV0VkVPRpz8R"
   }
  },
  {
   "cell_type": "markdown",
   "source": [
    "## Modeling"
   ],
   "metadata": {
    "id": "rYXrmLyIp9j8"
   }
  },
  {
   "cell_type": "code",
   "source": [
    "nb = GaussianNB()\n",
    "nb.fit(X_train, y_train)"
   ],
   "metadata": {
    "colab": {
     "base_uri": "https://localhost:8080/",
     "height": 74
    },
    "id": "Ag0aZt3Ap_QW",
    "outputId": "24df8f60-a67f-4498-f93c-a949c040d5ac",
    "ExecuteTime": {
     "end_time": "2023-05-14T07:28:35.589780600Z",
     "start_time": "2023-05-14T07:28:35.542196800Z"
    }
   },
   "execution_count": 5,
   "outputs": [
    {
     "data": {
      "text/plain": "GaussianNB()"
     },
     "execution_count": 5,
     "metadata": {},
     "output_type": "execute_result"
    }
   ]
  },
  {
   "cell_type": "markdown",
   "source": [
    "## Evaluation"
   ],
   "metadata": {
    "id": "ztu2zeAOqDDV"
   }
  },
  {
   "cell_type": "code",
   "source": [
    "nb.score(X_train, y_train)"
   ],
   "metadata": {
    "colab": {
     "base_uri": "https://localhost:8080/"
    },
    "id": "xrKaHaj6qE4b",
    "outputId": "7fd6c9da-206e-4606-b3b8-9a7cf9d6d39b",
    "ExecuteTime": {
     "end_time": "2023-05-14T07:28:35.976950800Z",
     "start_time": "2023-05-14T07:28:35.557015300Z"
    }
   },
   "execution_count": 6,
   "outputs": [
    {
     "data": {
      "text/plain": "0.8571428571428571"
     },
     "execution_count": 6,
     "metadata": {},
     "output_type": "execute_result"
    }
   ]
  },
  {
   "cell_type": "markdown",
   "source": [
    "## Tugas\n",
    "Buat prediksi apakah hari ini bermain golf atau tidak jika diketahui kondisi hari ini adalah Outlook = Sunny, Temperature = Hot, Humidity = Normal, dan Windy = False)"
   ],
   "metadata": {
    "id": "AHET_L25qK9v"
   }
  },
  {
   "cell_type": "code",
   "source": [
    "kondisi = [[2, 1, 1, 0]]  # Outlook=Sunny, Temperature=Hot, Humidity=Normal, Windy=False\n",
    "probabilitas = nb.predict_proba(kondisi)\n",
    "\n",
    "print(f\"Probabilitas tidak bermain golf / bermain golf:[[{probabilitas[0][0]} {probabilitas[0][1]}]]\" )\n",
    "\n",
    "prediksi = nb.predict(kondisi)\n",
    "print(\"Maka kesimpulannya adalah\", prediksi)"
   ],
   "metadata": {
    "colab": {
     "base_uri": "https://localhost:8080/"
    },
    "id": "sM-IG3Bpqcal",
    "outputId": "43922237-ed3e-45af-abad-21f0e4600ab6",
    "ExecuteTime": {
     "end_time": "2023-05-14T07:28:36.029475200Z",
     "start_time": "2023-05-14T07:28:35.620866Z"
    }
   },
   "execution_count": 7,
   "outputs": [
    {
     "name": "stdout",
     "output_type": "stream",
     "text": [
      "Probabilitas tidak bermain golf / bermain golf:[[0.12487421892391505 0.8751257810760849]]\n",
      "Maka kesimpulannya adalah ['yes']\n"
     ]
    },
    {
     "name": "stderr",
     "output_type": "stream",
     "text": [
      "C:\\Users\\ferli\\anaconda3\\lib\\site-packages\\sklearn\\base.py:450: UserWarning: X does not have valid feature names, but GaussianNB was fitted with feature names\n",
      "  warnings.warn(\n",
      "C:\\Users\\ferli\\anaconda3\\lib\\site-packages\\sklearn\\base.py:450: UserWarning: X does not have valid feature names, but GaussianNB was fitted with feature names\n",
      "  warnings.warn(\n"
     ]
    }
   ]
  }
 ]
}
