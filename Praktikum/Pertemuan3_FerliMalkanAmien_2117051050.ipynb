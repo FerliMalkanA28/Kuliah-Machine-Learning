{
  "nbformat": 4,
  "nbformat_minor": 0,
  "metadata": {
    "colab": {
      "provenance": []
    },
    "kernelspec": {
      "name": "python3",
      "display_name": "Python 3"
    },
    "language_info": {
      "name": "python"
    }
  },
  "cells": [
    {
      "cell_type": "markdown",
      "source": [
        "Nama : Ferli Malkan Amien <br>\n",
        "NPM  : 2117051050 <br>\n",
        "Kelas: C <br>\n",
        "Link : https://colab.research.google.com/drive/1JSQLc1zshB1R_7QhpnCSroonYzMybYsI?usp=sharing"
      ],
      "metadata": {
        "id": "CZv3QIjRUhbP"
      }
    },
    {
      "cell_type": "markdown",
      "source": [
        "# Pertemuan 3"
      ],
      "metadata": {
        "id": "jTnN0LzgpUxc"
      }
    },
    {
      "cell_type": "markdown",
      "source": [
        "## Library"
      ],
      "metadata": {
        "id": "t69CZIKypnxP"
      }
    },
    {
      "cell_type": "code",
      "execution_count": null,
      "metadata": {
        "id": "w6u6-kXbpUYw"
      },
      "outputs": [],
      "source": [
        "import numpy  as np\n",
        "import pandas as pd\n",
        "import scipy\n",
        "from scipy.spatial.distance import cityblock, mahalanobis\n",
        "from scipy.stats import chi2"
      ]
    },
    {
      "cell_type": "markdown",
      "source": [
        "## Dataset"
      ],
      "metadata": {
        "id": "5jXgJDHHplG5"
      }
    },
    {
      "cell_type": "code",
      "source": [
        "# dataset pertama untuk perhitungan manhattan distance dan euclidean distance\n",
        "P1 = np.array((4, 1))\n",
        "P2 = np.array((1, 3))\n",
        "\n",
        "# dataset kedua untuk perhitungan mahalanobis distance\n",
        "X = np.array([[7.0, 165, 5], [7.4, 160, 5], [7.1, 170, 4], [7.3, 150, 5], [7.2, 160, 3]])"
      ],
      "metadata": {
        "id": "_8iblyGHppTM"
      },
      "execution_count": null,
      "outputs": []
    },
    {
      "cell_type": "code",
      "source": [
        "# info dataset\n",
        "print(X.shape)\n",
        "print(X.ndim)\n",
        "print(X)"
      ],
      "metadata": {
        "colab": {
          "base_uri": "https://localhost:8080/"
        },
        "id": "aUw79cD1qOhw",
        "outputId": "a63d9d0d-fcf9-444d-f5f4-75afe320c7aa"
      },
      "execution_count": null,
      "outputs": [
        {
          "output_type": "stream",
          "name": "stdout",
          "text": [
            "(5, 3)\n",
            "2\n",
            "[[  7.  165.    5. ]\n",
            " [  7.4 160.    5. ]\n",
            " [  7.1 170.    4. ]\n",
            " [  7.3 150.    5. ]\n",
            " [  7.2 160.    3. ]]\n"
          ]
        }
      ]
    },
    {
      "cell_type": "markdown",
      "source": [
        "## Calculate Distance"
      ],
      "metadata": {
        "id": "ie1SVpIZragX"
      }
    },
    {
      "cell_type": "markdown",
      "source": [
        "### Manhattan Distance"
      ],
      "metadata": {
        "id": "Rp8IJ321re13"
      }
    },
    {
      "cell_type": "code",
      "source": [
        "mht_dist = cityblock(P1, P2)\n",
        "print(mht_dist)"
      ],
      "metadata": {
        "colab": {
          "base_uri": "https://localhost:8080/"
        },
        "id": "-u926UB0rjH0",
        "outputId": "fe8074a1-dc48-4fe5-eb3d-1382149014af"
      },
      "execution_count": null,
      "outputs": [
        {
          "output_type": "stream",
          "name": "stdout",
          "text": [
            "5\n"
          ]
        }
      ]
    },
    {
      "cell_type": "markdown",
      "source": [
        "### Euclidean Distance"
      ],
      "metadata": {
        "id": "Zt_7kT83rpH5"
      }
    },
    {
      "cell_type": "code",
      "source": [
        "# hitung selisih antara dua vectors\n",
        "temp = P1 - P2\n",
        "\n",
        "# gunakan formula euclidean\n",
        "euclid_dist = np.sqrt(np.dot(temp.T, temp))\n",
        "print(np.dot(temp.T, temp))\n",
        "print(euclid_dist)"
      ],
      "metadata": {
        "colab": {
          "base_uri": "https://localhost:8080/"
        },
        "id": "T-oFP5wHrrUr",
        "outputId": "1e36c2e0-7571-4a8e-b230-15a73c4ec7f9"
      },
      "execution_count": null,
      "outputs": [
        {
          "output_type": "stream",
          "name": "stdout",
          "text": [
            "13\n",
            "3.605551275463989\n"
          ]
        }
      ]
    },
    {
      "cell_type": "markdown",
      "source": [
        "### Mahalanobis Distance"
      ],
      "metadata": {
        "id": "_EyKeObvuEyg"
      }
    },
    {
      "cell_type": "code",
      "source": [
        "# Hitung kovarians dan inverse kovarians dari dataaset\n",
        "cov = np.cov(X.T)\n",
        "inv_cov = np.linalg.inv(cov)\n",
        "\n",
        "# Dua data baru dalam dataset\n",
        "x1 = np.array([7.1, 145, 3])\n",
        "x2 = np.array([6.0, 100, 5])\n",
        "\n",
        "# Hitung jarak Mahalanobis antara dua titik\n",
        "mhlnbs_dist = mahalanobis(x1, x2, inv_cov)\n",
        "print(mhlnbs_dist)"
      ],
      "metadata": {
        "colab": {
          "base_uri": "https://localhost:8080/"
        },
        "id": "WFUng4oRuHP3",
        "outputId": "8fae0930-71a6-42d2-bce4-5bbb6b092a91"
      },
      "execution_count": null,
      "outputs": [
        {
          "output_type": "stream",
          "name": "stdout",
          "text": [
            "15.370699331286659\n"
          ]
        }
      ]
    },
    {
      "cell_type": "markdown",
      "source": [
        "# Tugas"
      ],
      "metadata": {
        "id": "8PGbV55EPa97"
      }
    },
    {
      "cell_type": "code",
      "source": [
        "df = pd.DataFrame(\n",
        "    {\n",
        "        \"Diameter (f1)\" : pd.Series([7.0, 7.4, 7.1, 7.3, 7.2, 7.1, 6.0]),\n",
        "        \"Berat (f2)\" : pd.Series([165, 160, 170, 150, 160, 145, 100]),\n",
        "        \"Tingkat Kemerahan (f3)\" : pd.Series([5, 5, 4, 5, 3, 3, 5])\n",
        "    }\n",
        ")"
      ],
      "metadata": {
        "id": "QT-Tbp4oPf6T"
      },
      "execution_count": null,
      "outputs": []
    },
    {
      "cell_type": "code",
      "source": [
        "df"
      ],
      "metadata": {
        "colab": {
          "base_uri": "https://localhost:8080/",
          "height": 269
        },
        "id": "8E5ym1f9QenY",
        "outputId": "55285cab-da73-4403-a6ea-f3aa41c2f3e0"
      },
      "execution_count": null,
      "outputs": [
        {
          "output_type": "execute_result",
          "data": {
            "text/plain": [
              "   Diameter (f1)  Berat (f2)  Tingkat Kemerahan (f3)\n",
              "0            7.0         165                       5\n",
              "1            7.4         160                       5\n",
              "2            7.1         170                       4\n",
              "3            7.3         150                       5\n",
              "4            7.2         160                       3\n",
              "5            7.1         145                       3\n",
              "6            6.0         100                       5"
            ],
            "text/html": [
              "\n",
              "  <div id=\"df-0244c395-db92-4f9c-a6fb-f9abecb16cbb\">\n",
              "    <div class=\"colab-df-container\">\n",
              "      <div>\n",
              "<style scoped>\n",
              "    .dataframe tbody tr th:only-of-type {\n",
              "        vertical-align: middle;\n",
              "    }\n",
              "\n",
              "    .dataframe tbody tr th {\n",
              "        vertical-align: top;\n",
              "    }\n",
              "\n",
              "    .dataframe thead th {\n",
              "        text-align: right;\n",
              "    }\n",
              "</style>\n",
              "<table border=\"1\" class=\"dataframe\">\n",
              "  <thead>\n",
              "    <tr style=\"text-align: right;\">\n",
              "      <th></th>\n",
              "      <th>Diameter (f1)</th>\n",
              "      <th>Berat (f2)</th>\n",
              "      <th>Tingkat Kemerahan (f3)</th>\n",
              "    </tr>\n",
              "  </thead>\n",
              "  <tbody>\n",
              "    <tr>\n",
              "      <th>0</th>\n",
              "      <td>7.0</td>\n",
              "      <td>165</td>\n",
              "      <td>5</td>\n",
              "    </tr>\n",
              "    <tr>\n",
              "      <th>1</th>\n",
              "      <td>7.4</td>\n",
              "      <td>160</td>\n",
              "      <td>5</td>\n",
              "    </tr>\n",
              "    <tr>\n",
              "      <th>2</th>\n",
              "      <td>7.1</td>\n",
              "      <td>170</td>\n",
              "      <td>4</td>\n",
              "    </tr>\n",
              "    <tr>\n",
              "      <th>3</th>\n",
              "      <td>7.3</td>\n",
              "      <td>150</td>\n",
              "      <td>5</td>\n",
              "    </tr>\n",
              "    <tr>\n",
              "      <th>4</th>\n",
              "      <td>7.2</td>\n",
              "      <td>160</td>\n",
              "      <td>3</td>\n",
              "    </tr>\n",
              "    <tr>\n",
              "      <th>5</th>\n",
              "      <td>7.1</td>\n",
              "      <td>145</td>\n",
              "      <td>3</td>\n",
              "    </tr>\n",
              "    <tr>\n",
              "      <th>6</th>\n",
              "      <td>6.0</td>\n",
              "      <td>100</td>\n",
              "      <td>5</td>\n",
              "    </tr>\n",
              "  </tbody>\n",
              "</table>\n",
              "</div>\n",
              "      <button class=\"colab-df-convert\" onclick=\"convertToInteractive('df-0244c395-db92-4f9c-a6fb-f9abecb16cbb')\"\n",
              "              title=\"Convert this dataframe to an interactive table.\"\n",
              "              style=\"display:none;\">\n",
              "        \n",
              "  <svg xmlns=\"http://www.w3.org/2000/svg\" height=\"24px\"viewBox=\"0 0 24 24\"\n",
              "       width=\"24px\">\n",
              "    <path d=\"M0 0h24v24H0V0z\" fill=\"none\"/>\n",
              "    <path d=\"M18.56 5.44l.94 2.06.94-2.06 2.06-.94-2.06-.94-.94-2.06-.94 2.06-2.06.94zm-11 1L8.5 8.5l.94-2.06 2.06-.94-2.06-.94L8.5 2.5l-.94 2.06-2.06.94zm10 10l.94 2.06.94-2.06 2.06-.94-2.06-.94-.94-2.06-.94 2.06-2.06.94z\"/><path d=\"M17.41 7.96l-1.37-1.37c-.4-.4-.92-.59-1.43-.59-.52 0-1.04.2-1.43.59L10.3 9.45l-7.72 7.72c-.78.78-.78 2.05 0 2.83L4 21.41c.39.39.9.59 1.41.59.51 0 1.02-.2 1.41-.59l7.78-7.78 2.81-2.81c.8-.78.8-2.07 0-2.86zM5.41 20L4 18.59l7.72-7.72 1.47 1.35L5.41 20z\"/>\n",
              "  </svg>\n",
              "      </button>\n",
              "      \n",
              "  <style>\n",
              "    .colab-df-container {\n",
              "      display:flex;\n",
              "      flex-wrap:wrap;\n",
              "      gap: 12px;\n",
              "    }\n",
              "\n",
              "    .colab-df-convert {\n",
              "      background-color: #E8F0FE;\n",
              "      border: none;\n",
              "      border-radius: 50%;\n",
              "      cursor: pointer;\n",
              "      display: none;\n",
              "      fill: #1967D2;\n",
              "      height: 32px;\n",
              "      padding: 0 0 0 0;\n",
              "      width: 32px;\n",
              "    }\n",
              "\n",
              "    .colab-df-convert:hover {\n",
              "      background-color: #E2EBFA;\n",
              "      box-shadow: 0px 1px 2px rgba(60, 64, 67, 0.3), 0px 1px 3px 1px rgba(60, 64, 67, 0.15);\n",
              "      fill: #174EA6;\n",
              "    }\n",
              "\n",
              "    [theme=dark] .colab-df-convert {\n",
              "      background-color: #3B4455;\n",
              "      fill: #D2E3FC;\n",
              "    }\n",
              "\n",
              "    [theme=dark] .colab-df-convert:hover {\n",
              "      background-color: #434B5C;\n",
              "      box-shadow: 0px 1px 3px 1px rgba(0, 0, 0, 0.15);\n",
              "      filter: drop-shadow(0px 1px 2px rgba(0, 0, 0, 0.3));\n",
              "      fill: #FFFFFF;\n",
              "    }\n",
              "  </style>\n",
              "\n",
              "      <script>\n",
              "        const buttonEl =\n",
              "          document.querySelector('#df-0244c395-db92-4f9c-a6fb-f9abecb16cbb button.colab-df-convert');\n",
              "        buttonEl.style.display =\n",
              "          google.colab.kernel.accessAllowed ? 'block' : 'none';\n",
              "\n",
              "        async function convertToInteractive(key) {\n",
              "          const element = document.querySelector('#df-0244c395-db92-4f9c-a6fb-f9abecb16cbb');\n",
              "          const dataTable =\n",
              "            await google.colab.kernel.invokeFunction('convertToInteractive',\n",
              "                                                     [key], {});\n",
              "          if (!dataTable) return;\n",
              "\n",
              "          const docLinkHtml = 'Like what you see? Visit the ' +\n",
              "            '<a target=\"_blank\" href=https://colab.research.google.com/notebooks/data_table.ipynb>data table notebook</a>'\n",
              "            + ' to learn more about interactive tables.';\n",
              "          element.innerHTML = '';\n",
              "          dataTable['output_type'] = 'display_data';\n",
              "          await google.colab.output.renderOutput(dataTable, element);\n",
              "          const docLink = document.createElement('div');\n",
              "          docLink.innerHTML = docLinkHtml;\n",
              "          element.appendChild(docLink);\n",
              "        }\n",
              "      </script>\n",
              "    </div>\n",
              "  </div>\n",
              "  "
            ]
          },
          "metadata": {},
          "execution_count": 39
        }
      ]
    },
    {
      "cell_type": "code",
      "source": [
        "def mahalanobis(x = None, data = None, cov = None):\n",
        "  x_mu = x - np.mean(data)\n",
        "  if not cov:\n",
        "    cov = np.cov(data.values.T)\n",
        "  inv_covmat = np.linalg.inv(cov)\n",
        "  left = np.dot(x_mu, inv_covmat)\n",
        "  mahala = np.dot(left, x_mu.T)\n",
        "  return mahala.diagonal()\n",
        "\n",
        "df[\"Mahalanobis\"] = mahalanobis(x = df, data = df[[\"Diameter (f1)\", \"Berat (f2)\", \"Tingkat Kemerahan (f3)\"]])\n",
        "\n",
        "df[\"p\"] = 1 - chi2.cdf(df[\"Mahalanobis\"], 3)"
      ],
      "metadata": {
        "id": "J91up3k7SC49"
      },
      "execution_count": null,
      "outputs": []
    },
    {
      "cell_type": "code",
      "source": [
        "df"
      ],
      "metadata": {
        "colab": {
          "base_uri": "https://localhost:8080/",
          "height": 269
        },
        "id": "EMXX5RzjT68W",
        "outputId": "03a2cf38-dfd6-4bc7-bf52-855e6719d6fb"
      },
      "execution_count": null,
      "outputs": [
        {
          "output_type": "execute_result",
          "data": {
            "text/plain": [
              "   Diameter (f1)  Berat (f2)  Tingkat Kemerahan (f3)  Mahalanobis         p\n",
              "0            7.0         165                       5     2.444376  0.485428\n",
              "1            7.4         160                       5     1.940472  0.584853\n",
              "2            7.1         170                       4     1.999789  0.572450\n",
              "3            7.3         150                       5     2.301735  0.512189\n",
              "4            7.2         160                       3     1.845689  0.605043\n",
              "5            7.1         145                       3     2.483532  0.478275\n",
              "6            6.0         100                       5     4.984406  0.172943"
            ],
            "text/html": [
              "\n",
              "  <div id=\"df-859960ac-41f0-4a0b-ac53-ec822132ba76\">\n",
              "    <div class=\"colab-df-container\">\n",
              "      <div>\n",
              "<style scoped>\n",
              "    .dataframe tbody tr th:only-of-type {\n",
              "        vertical-align: middle;\n",
              "    }\n",
              "\n",
              "    .dataframe tbody tr th {\n",
              "        vertical-align: top;\n",
              "    }\n",
              "\n",
              "    .dataframe thead th {\n",
              "        text-align: right;\n",
              "    }\n",
              "</style>\n",
              "<table border=\"1\" class=\"dataframe\">\n",
              "  <thead>\n",
              "    <tr style=\"text-align: right;\">\n",
              "      <th></th>\n",
              "      <th>Diameter (f1)</th>\n",
              "      <th>Berat (f2)</th>\n",
              "      <th>Tingkat Kemerahan (f3)</th>\n",
              "      <th>Mahalanobis</th>\n",
              "      <th>p</th>\n",
              "    </tr>\n",
              "  </thead>\n",
              "  <tbody>\n",
              "    <tr>\n",
              "      <th>0</th>\n",
              "      <td>7.0</td>\n",
              "      <td>165</td>\n",
              "      <td>5</td>\n",
              "      <td>2.444376</td>\n",
              "      <td>0.485428</td>\n",
              "    </tr>\n",
              "    <tr>\n",
              "      <th>1</th>\n",
              "      <td>7.4</td>\n",
              "      <td>160</td>\n",
              "      <td>5</td>\n",
              "      <td>1.940472</td>\n",
              "      <td>0.584853</td>\n",
              "    </tr>\n",
              "    <tr>\n",
              "      <th>2</th>\n",
              "      <td>7.1</td>\n",
              "      <td>170</td>\n",
              "      <td>4</td>\n",
              "      <td>1.999789</td>\n",
              "      <td>0.572450</td>\n",
              "    </tr>\n",
              "    <tr>\n",
              "      <th>3</th>\n",
              "      <td>7.3</td>\n",
              "      <td>150</td>\n",
              "      <td>5</td>\n",
              "      <td>2.301735</td>\n",
              "      <td>0.512189</td>\n",
              "    </tr>\n",
              "    <tr>\n",
              "      <th>4</th>\n",
              "      <td>7.2</td>\n",
              "      <td>160</td>\n",
              "      <td>3</td>\n",
              "      <td>1.845689</td>\n",
              "      <td>0.605043</td>\n",
              "    </tr>\n",
              "    <tr>\n",
              "      <th>5</th>\n",
              "      <td>7.1</td>\n",
              "      <td>145</td>\n",
              "      <td>3</td>\n",
              "      <td>2.483532</td>\n",
              "      <td>0.478275</td>\n",
              "    </tr>\n",
              "    <tr>\n",
              "      <th>6</th>\n",
              "      <td>6.0</td>\n",
              "      <td>100</td>\n",
              "      <td>5</td>\n",
              "      <td>4.984406</td>\n",
              "      <td>0.172943</td>\n",
              "    </tr>\n",
              "  </tbody>\n",
              "</table>\n",
              "</div>\n",
              "      <button class=\"colab-df-convert\" onclick=\"convertToInteractive('df-859960ac-41f0-4a0b-ac53-ec822132ba76')\"\n",
              "              title=\"Convert this dataframe to an interactive table.\"\n",
              "              style=\"display:none;\">\n",
              "        \n",
              "  <svg xmlns=\"http://www.w3.org/2000/svg\" height=\"24px\"viewBox=\"0 0 24 24\"\n",
              "       width=\"24px\">\n",
              "    <path d=\"M0 0h24v24H0V0z\" fill=\"none\"/>\n",
              "    <path d=\"M18.56 5.44l.94 2.06.94-2.06 2.06-.94-2.06-.94-.94-2.06-.94 2.06-2.06.94zm-11 1L8.5 8.5l.94-2.06 2.06-.94-2.06-.94L8.5 2.5l-.94 2.06-2.06.94zm10 10l.94 2.06.94-2.06 2.06-.94-2.06-.94-.94-2.06-.94 2.06-2.06.94z\"/><path d=\"M17.41 7.96l-1.37-1.37c-.4-.4-.92-.59-1.43-.59-.52 0-1.04.2-1.43.59L10.3 9.45l-7.72 7.72c-.78.78-.78 2.05 0 2.83L4 21.41c.39.39.9.59 1.41.59.51 0 1.02-.2 1.41-.59l7.78-7.78 2.81-2.81c.8-.78.8-2.07 0-2.86zM5.41 20L4 18.59l7.72-7.72 1.47 1.35L5.41 20z\"/>\n",
              "  </svg>\n",
              "      </button>\n",
              "      \n",
              "  <style>\n",
              "    .colab-df-container {\n",
              "      display:flex;\n",
              "      flex-wrap:wrap;\n",
              "      gap: 12px;\n",
              "    }\n",
              "\n",
              "    .colab-df-convert {\n",
              "      background-color: #E8F0FE;\n",
              "      border: none;\n",
              "      border-radius: 50%;\n",
              "      cursor: pointer;\n",
              "      display: none;\n",
              "      fill: #1967D2;\n",
              "      height: 32px;\n",
              "      padding: 0 0 0 0;\n",
              "      width: 32px;\n",
              "    }\n",
              "\n",
              "    .colab-df-convert:hover {\n",
              "      background-color: #E2EBFA;\n",
              "      box-shadow: 0px 1px 2px rgba(60, 64, 67, 0.3), 0px 1px 3px 1px rgba(60, 64, 67, 0.15);\n",
              "      fill: #174EA6;\n",
              "    }\n",
              "\n",
              "    [theme=dark] .colab-df-convert {\n",
              "      background-color: #3B4455;\n",
              "      fill: #D2E3FC;\n",
              "    }\n",
              "\n",
              "    [theme=dark] .colab-df-convert:hover {\n",
              "      background-color: #434B5C;\n",
              "      box-shadow: 0px 1px 3px 1px rgba(0, 0, 0, 0.15);\n",
              "      filter: drop-shadow(0px 1px 2px rgba(0, 0, 0, 0.3));\n",
              "      fill: #FFFFFF;\n",
              "    }\n",
              "  </style>\n",
              "\n",
              "      <script>\n",
              "        const buttonEl =\n",
              "          document.querySelector('#df-859960ac-41f0-4a0b-ac53-ec822132ba76 button.colab-df-convert');\n",
              "        buttonEl.style.display =\n",
              "          google.colab.kernel.accessAllowed ? 'block' : 'none';\n",
              "\n",
              "        async function convertToInteractive(key) {\n",
              "          const element = document.querySelector('#df-859960ac-41f0-4a0b-ac53-ec822132ba76');\n",
              "          const dataTable =\n",
              "            await google.colab.kernel.invokeFunction('convertToInteractive',\n",
              "                                                     [key], {});\n",
              "          if (!dataTable) return;\n",
              "\n",
              "          const docLinkHtml = 'Like what you see? Visit the ' +\n",
              "            '<a target=\"_blank\" href=https://colab.research.google.com/notebooks/data_table.ipynb>data table notebook</a>'\n",
              "            + ' to learn more about interactive tables.';\n",
              "          element.innerHTML = '';\n",
              "          dataTable['output_type'] = 'display_data';\n",
              "          await google.colab.output.renderOutput(dataTable, element);\n",
              "          const docLink = document.createElement('div');\n",
              "          docLink.innerHTML = docLinkHtml;\n",
              "          element.appendChild(docLink);\n",
              "        }\n",
              "      </script>\n",
              "    </div>\n",
              "  </div>\n",
              "  "
            ]
          },
          "metadata": {},
          "execution_count": 42
        }
      ]
    }
  ]
}